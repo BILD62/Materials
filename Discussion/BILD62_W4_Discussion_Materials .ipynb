{
 "cells": [
  {
   "cell_type": "markdown",
   "id": "440fd39d",
   "metadata": {},
   "source": [
    "## 1. For Loop Exercise\n",
    "\n",
    "Use the for loop to print the following pattern (hint: use the `*` operator to create string with repeated character):\n",
    "<br>\n",
    "1 \n",
    "<br>\n",
    "2 2 \n",
    "<br>\n",
    "3 3 3 \n",
    "<br>\n",
    "4 4 4 4 \n",
    "<br>\n",
    "5 5 5 5 5 "
   ]
  },
  {
   "cell_type": "code",
   "execution_count": 1,
   "id": "d12a2ffa",
   "metadata": {},
   "outputs": [
    {
     "name": "stdout",
     "output_type": "stream",
     "text": [
      "3 3 3 \n",
      "4 4 4 4 \n"
     ]
    }
   ],
   "source": [
    "#Let's first think about how to generate one of the line from the pattern\n",
    "#example: \n",
    "\n",
    "print('3 '*3)\n",
    "print('4 '*4)"
   ]
  },
  {
   "cell_type": "code",
   "execution_count": 2,
   "id": "82ad1210",
   "metadata": {},
   "outputs": [
    {
     "name": "stdout",
     "output_type": "stream",
     "text": [
      "1 \n",
      "2 2 \n",
      "3 3 3 \n",
      "4 4 4 4 \n",
      "5 5 5 5 5 \n"
     ]
    }
   ],
   "source": [
    "#solution:\n",
    "\n",
    "for i in range(1,6):\n",
    "    repeating_unit=str(i)+' '\n",
    "    line=repeating_unit*i\n",
    "    print(line)"
   ]
  },
  {
   "cell_type": "markdown",
   "id": "24f4a38c",
   "metadata": {},
   "source": [
    "## 2. GCcontent() Function and Error Raising"
   ]
  },
  {
   "cell_type": "code",
   "execution_count": 3,
   "id": "476e4007",
   "metadata": {},
   "outputs": [
    {
     "data": {
      "text/plain": [
       "0.42857142857142855"
      ]
     },
     "execution_count": 3,
     "metadata": {},
     "output_type": "execute_result"
    }
   ],
   "source": [
    "def GCcontent(DNA):\n",
    "\n",
    "    '''This function returns the GC content of an input DNA string.\n",
    "    The input DNA string should only contain A,T,C,G.'''\n",
    "\n",
    "    #pre-check whether the input DNA string contains any illegal characters\n",
    "    #try to include characters other than A,T,C and G in your Sequence variable\n",
    "    #to see what happens to the output of the following codes\n",
    "    allowed_char='ATCG'\n",
    "    if not all(char in allowed_char for char in DNA):\n",
    "        #print('Input contains illegal character(s). The input DNA string should only contain A,T,C,G.')\n",
    "        #raising error stops the code at this step and the for loop below will no longer be executed.\n",
    "        raise ValueError('Input contains illegal character(s). The input DNA string should only contain A,T,C,G.')\n",
    "    \n",
    "    #Exercise: Add another code block to check whether in the input is a string variable \n",
    "    #and raise a TypeError('Input has to be a string variable') if it isn't\n",
    "    \n",
    "    #use a for loop the iterate through the input DNA string and count the number of base C and G\n",
    "    counter=0\n",
    "    for i in DNA:\n",
    "        if i=='C' or i=='G':\n",
    "            counter=counter+1\n",
    "    \n",
    "    #calculate the GC content of the input DNA string\n",
    "    return(counter/len(DNA)) \n",
    "\n",
    "GCcontent('ACTGACGTAATTGC')"
   ]
  },
  {
   "cell_type": "code",
   "execution_count": 4,
   "id": "2cf1c741",
   "metadata": {},
   "outputs": [
    {
     "name": "stdout",
     "output_type": "stream",
     "text": [
      "d is not one of ATCG\n",
      "A is one of ATCG\n",
      "T is one of ATCG\n",
      "G is one of ATCG\n",
      "A is one of ATCG\n",
      "[False, True, True, True, True]\n"
     ]
    }
   ],
   "source": [
    "###For the input pre-checking block, the full version of the code is below:\n",
    "#we first generate a list of boolean variables \n",
    "#try to include characters other than A,T,C and G in your Sequence variable\n",
    "#to see what happens to the output of the following codes\n",
    "\n",
    "Sequence='dATGA'\n",
    "allowed_char='ATCG'\n",
    "bool_list=[]\n",
    "for char in Sequence:\n",
    "    check_char = char in allowed_char\n",
    "    #print out messages to better understand how this for loop works \n",
    "    if check_char == True:\n",
    "        print(char +' is one of '+ allowed_char)\n",
    "    else:\n",
    "        print(char +' is not one of '+ allowed_char)\n",
    "    bool_list.append(check_char)\n",
    "\n",
    "print(bool_list)"
   ]
  },
  {
   "cell_type": "code",
   "execution_count": 5,
   "id": "322347d5",
   "metadata": {},
   "outputs": [
    {
     "name": "stdout",
     "output_type": "stream",
     "text": [
      "[False, True, True, True, True]\n"
     ]
    }
   ],
   "source": [
    "#The list comprehension equivalent of the for loop above is:\n",
    "\n",
    "print([char in allowed_char for char in Sequence])"
   ]
  },
  {
   "cell_type": "code",
   "execution_count": 6,
   "id": "ecfdacea",
   "metadata": {
    "scrolled": true
   },
   "outputs": [
    {
     "name": "stdout",
     "output_type": "stream",
     "text": [
      "1\n",
      "Input contains illegal character(s). The input DNA string should only contain A,T,C,G.\n"
     ]
    }
   ],
   "source": [
    "#If at least one of the item within the bool_list is False, then that means there is at least one charater within the \n",
    "#DNA sequence is not A,T,C or G.We could use the count() function to count the number of False in the bool_list\n",
    "\n",
    "Count_False=bool_list.count(False)\n",
    "print(Count_False)\n",
    "if Count_False >= 1:\n",
    "    print('Input contains illegal character(s). The input DNA string should only contain A,T,C,G.')"
   ]
  },
  {
   "cell_type": "code",
   "execution_count": 7,
   "id": "14f250e3",
   "metadata": {},
   "outputs": [
    {
     "name": "stdout",
     "output_type": "stream",
     "text": [
      "False\n",
      "Input contains illegal character(s). The input DNA string should only contain A,T,C,G.\n"
     ]
    }
   ],
   "source": [
    "#The all() function takes a list of boolean variables as the input and returns True only if all of the items\n",
    "#within the input list are True\n",
    "\n",
    "all_char_legal=all(bool_list)\n",
    "print(all_char_legal)\n",
    "if not all_char_legal:\n",
    "    print ('Input contains illegal character(s). The input DNA string should only contain A,T,C,G.')"
   ]
  },
  {
   "cell_type": "markdown",
   "id": "3e472616",
   "metadata": {},
   "source": [
    "## 3. OOP Example: Car() Class"
   ]
  },
  {
   "cell_type": "code",
   "execution_count": 8,
   "id": "d195e2dd",
   "metadata": {},
   "outputs": [],
   "source": [
    "###Create a car() class\n",
    "\n",
    "class car():\n",
    "    \n",
    "    #attributes\n",
    "    color = 'Black' #color of the car\n",
    "    year = 2020 #year of the car\n",
    "    mpg = 20 #milage of the car\n",
    "    speed = 80 #current speed of the car\n",
    "    is_stopped = False\n",
    "    \n",
    "    #methods \n",
    "    def accelerate(self):\n",
    "        self.speed=self.speed+20\n",
    "        #exercise: similar to the brake() method below, try to add a max_speed attribute with your desired\n",
    "        #value and reset the speed of the car class to the max_speed \n",
    "        #if the speed after running the accelerate() method is above the max_speed\n",
    "        print(\"the speed of the car now is \"+str(car.speed))\n",
    "    \n",
    "    def brake(self):\n",
    "        car.speed=self.speed-50\n",
    "        if self.speed<0:\n",
    "            print('speed can not be negative.')\n",
    "            self.speed = 0\n",
    "        print(\"the speed of the car now is \"+str(car.speed))\n",
    "        \n",
    "    def stop(self):\n",
    "        self.is_stopped= True\n",
    "        self.speed = 0\n",
    "        print('The car has stopped')\n",
    "    def start(self):\n",
    "        if self.is_stopped == False:\n",
    "            raise ValueError('can only start the car when it is stopped')\n",
    "        else:\n",
    "            self.is_stopped = False\n",
    "            self.speed = 20\n",
    "            print('The car has started')"
   ]
  },
  {
   "cell_type": "code",
   "execution_count": 9,
   "id": "7c6f9637",
   "metadata": {},
   "outputs": [
    {
     "name": "stdout",
     "output_type": "stream",
     "text": [
      "20\n",
      "Black\n",
      "The car has stopped\n",
      "The car has started\n",
      "20\n",
      "False\n"
     ]
    }
   ],
   "source": [
    "#creating an instance of the car() class\n",
    "\n",
    "my_car=car()\n",
    "\n",
    "#get my_car attributes\n",
    "print(my_car.mpg)\n",
    "print(my_car.color)\n",
    "\n",
    "#call my_car methods\n",
    "my_car.stop()\n",
    "my_car.start()\n",
    "print(my_car.speed)\n",
    "print(my_car.is_stopped)"
   ]
  },
  {
   "cell_type": "code",
   "execution_count": 10,
   "id": "ead12580",
   "metadata": {},
   "outputs": [],
   "source": [
    "###Use __init__ keyword to specify instance-specific attributes of a object\n",
    "\n",
    "class car():\n",
    "    \n",
    "    #initialize instance-specific attributes\n",
    "    def __init__(self,color,year,mpg,speed,is_stopped):\n",
    "        self.color = color\n",
    "        self.year = year\n",
    "        self.mpg = mpg\n",
    "        self.speed = speed\n",
    "        self.is_stopped = is_stopped\n",
    "    \n",
    "    #methods \n",
    "    def accelerate(self):\n",
    "        self.speed=self.speed+20\n",
    "        print(\"the speed of the car now is \"+str(car.speed))\n",
    "    \n",
    "    def brake(self):\n",
    "        self.speed=self.speed-50\n",
    "        print(\"the speed of the car now is \"+str(car.speed))\n",
    "    def stop(self):\n",
    "        self.is_stopped= True\n",
    "        self.speed = 0\n",
    "        print('The car has stopped')\n",
    "    def start(self):\n",
    "        if car.is_stopped == False:\n",
    "            raise ValueError('can only start the car when it is stopped')\n",
    "        else:\n",
    "            self.is_stopped = False\n",
    "            self.speed = 20\n",
    "            print('The car has started')"
   ]
  },
  {
   "cell_type": "code",
   "execution_count": 11,
   "id": "7fce6db7",
   "metadata": {},
   "outputs": [
    {
     "name": "stdout",
     "output_type": "stream",
     "text": [
      "2018\n"
     ]
    }
   ],
   "source": [
    "#creating an instance of the car() class with instance-specific attributes\n",
    "\n",
    "my_car_3 = car('white',2018,25,80,False)\n",
    "print(my_car_3.year)"
   ]
  },
  {
   "cell_type": "markdown",
   "id": "429dd987",
   "metadata": {},
   "source": [
    "## 4. OOP Exercise: Rectangle() Class\n",
    "\n",
    "Create a Rectangle() class that:\n",
    "1. Has instance-specific attributes of length and width\n",
    "2. Has two methods, get_area() and get_perimeter(), that return the area and perimeter of the rectangle object\n",
    "3. Has a is_square() method that checks if the rectangle object created is a square\n"
   ]
  },
  {
   "cell_type": "code",
   "execution_count": 12,
   "id": "726d131e",
   "metadata": {},
   "outputs": [],
   "source": [
    "#Solution: \n",
    "\n",
    "class Rectangle():\n",
    "    \n",
    "    def __init__(self,length,width):\n",
    "        self.length = length\n",
    "        self.width = width\n",
    "    \n",
    "    def get_area(self):\n",
    "        return Rectangle.length*Rectangle.width\n",
    "    \n",
    "    def get_perimeter(self):\n",
    "        return (Rectangle.length+Rectangle.width)*2\n",
    "    \n",
    "    def is_square(self):\n",
    "        if Rectangle.length == Rectangle.width:\n",
    "            return True\n",
    "        else:\n",
    "            return False"
   ]
  }
 ],
 "metadata": {
  "kernelspec": {
   "display_name": "Python 3 (ipykernel)",
   "language": "python",
   "name": "python3"
  },
  "language_info": {
   "codemirror_mode": {
    "name": "ipython",
    "version": 3
   },
   "file_extension": ".py",
   "mimetype": "text/x-python",
   "name": "python",
   "nbconvert_exporter": "python",
   "pygments_lexer": "ipython3",
   "version": "3.9.5"
  }
 },
 "nbformat": 4,
 "nbformat_minor": 5
}
