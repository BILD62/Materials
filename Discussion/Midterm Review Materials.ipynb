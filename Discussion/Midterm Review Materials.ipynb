{
 "cells": [
  {
   "cell_type": "markdown",
   "id": "63db35c9",
   "metadata": {},
   "source": [
    "# Midterm Review Materials "
   ]
  },
  {
   "cell_type": "markdown",
   "id": "1248370f",
   "metadata": {},
   "source": [
    "## 1. For Loop Example: printing pyramid pattern\n",
    "\n",
    "Use the for loop to print the following pattern (hint: use the `*` operator to create string with repeated character):\n",
    "<br>\n",
    "1 \n",
    "<br>\n",
    "2 2 \n",
    "<br>\n",
    "3 3 3 \n",
    "<br>\n",
    "4 4 4 4 \n",
    "<br>\n",
    "5 5 5 5 5 "
   ]
  },
  {
   "cell_type": "code",
   "execution_count": 24,
   "id": "0f474645",
   "metadata": {},
   "outputs": [
    {
     "name": "stdout",
     "output_type": "stream",
     "text": [
      "3 3 3 \n",
      "4 4 4 4 \n"
     ]
    }
   ],
   "source": [
    "#Let's first think about how to generate one of the line from the pattern\n",
    "#example: \n",
    "\n",
    "print('3 '*3)\n",
    "print('4 '*4)"
   ]
  },
  {
   "cell_type": "code",
   "execution_count": 25,
   "id": "1856aa10",
   "metadata": {},
   "outputs": [
    {
     "name": "stdout",
     "output_type": "stream",
     "text": [
      "1 \n",
      "2 2 \n",
      "3 3 3 \n",
      "4 4 4 4 \n",
      "5 5 5 5 5 \n"
     ]
    }
   ],
   "source": [
    "#solution:\n",
    "\n",
    "for i in range(1,6):\n",
    "    repeating_unit=str(i)+' '\n",
    "    line=repeating_unit*i\n",
    "    print(line)"
   ]
  },
  {
   "cell_type": "markdown",
   "id": "828a72b6",
   "metadata": {},
   "source": [
    "## 2. For Loop Example: max() function\n",
    "\n",
    "In this example, we will write a user-defined max() function that returns the maximum value(s) from an integer list.\n",
    "\n",
    "The logic of this function is that we first assign the first value in the list to the maximum. Then while iterating over the list, if the next value is greater than or equal to the previous value, we reassign the next value to the maximum."
   ]
  },
  {
   "cell_type": "code",
   "execution_count": 1,
   "id": "973b0046",
   "metadata": {},
   "outputs": [],
   "source": [
    "def max(int_list):\n",
    "    '''this function returns the maximum value(s) from an integer list.'''\n",
    "    \n",
    "    #assign the first value in the list to maximum\n",
    "    maximum = int_list[0]\n",
    "    for i in int_list:\n",
    "        #compare the next value to the previous one\n",
    "        #then reassign the next value to maximum if it is greater than or equal to the previous value\n",
    "        if i >= maximum:\n",
    "            maximum = i\n",
    "    return maximum"
   ]
  },
  {
   "cell_type": "code",
   "execution_count": 2,
   "id": "a5fc6ba7",
   "metadata": {
    "scrolled": true
   },
   "outputs": [
    {
     "data": {
      "text/plain": [
       "45"
      ]
     },
     "execution_count": 2,
     "metadata": {},
     "output_type": "execute_result"
    }
   ],
   "source": [
    "max([1,3,45,2,15,6])"
   ]
  },
  {
   "cell_type": "markdown",
   "id": "f47dee5c",
   "metadata": {},
   "source": [
    "## 3. GCcontent() Function and Error Raising"
   ]
  },
  {
   "cell_type": "code",
   "execution_count": 26,
   "id": "382d1932",
   "metadata": {},
   "outputs": [
    {
     "data": {
      "text/plain": [
       "0.42857142857142855"
      ]
     },
     "execution_count": 26,
     "metadata": {},
     "output_type": "execute_result"
    }
   ],
   "source": [
    "def GCcontent(DNA):\n",
    "\n",
    "    '''This function returns the GC content of an input DNA string.\n",
    "    The input DNA string should only contain A,T,C,G.'''\n",
    "\n",
    "    #pre-check whether the input DNA string contains any illegal characters\n",
    "    #try to include characters other than A,T,C and G in your Sequence variable\n",
    "    #to see what happens to the output of the following codes\n",
    "    allowed_char='ATCG'\n",
    "    if not all(char in allowed_char for char in DNA):\n",
    "        #print('Input contains illegal character(s). The input DNA string should only contain A,T,C,G.')\n",
    "        #raising error stops the code at this step and the for loop below will no longer be executed.\n",
    "        raise ValueError('Input contains illegal character(s). The input DNA string should only contain A,T,C,G.')\n",
    "    \n",
    "    #Exercise: Add another code block to check whether in the input is a string variable \n",
    "    #and raise a TypeError('Input has to be a string variable') if it isn't\n",
    "    \n",
    "    #use a for loop the iterate through the input DNA string and count the number of base C and G\n",
    "    counter=0\n",
    "    for i in DNA:\n",
    "        if i=='C' or i=='G':\n",
    "            counter=counter+1\n",
    "    \n",
    "    #calculate the GC content of the input DNA string\n",
    "    return(counter/len(DNA)) \n",
    "\n",
    "GCcontent('ACTGACGTAATTGC')"
   ]
  },
  {
   "cell_type": "code",
   "execution_count": null,
   "id": "bf872ae8",
   "metadata": {},
   "outputs": [],
   "source": [
    "###For the input pre-checking block, the full version of the code is below:\n",
    "#we first generate a list of boolean variables \n",
    "#try to include characters other than A,T,C and G in your Sequence variable\n",
    "#to see what happens to the output of the following codes\n",
    "\n",
    "Sequence='dATGA'\n",
    "allowed_char='ATCG'\n",
    "bool_list=[]\n",
    "for char in Sequence:\n",
    "    check_char = char in allowed_char\n",
    "    #print out messages to better understand how this for loop works \n",
    "    if check_char == True:\n",
    "        print(char +' is one of '+ allowed_char)\n",
    "    else:\n",
    "        print(char +' is not one of '+ allowed_char)\n",
    "    bool_list.append(check_char)\n",
    "\n",
    "print(bool_list)"
   ]
  },
  {
   "cell_type": "code",
   "execution_count": null,
   "id": "3a087c6d",
   "metadata": {},
   "outputs": [],
   "source": [
    "#The list comprehension equivalent of the for loop above is:\n",
    "\n",
    "print([char in allowed_char for char in Sequence])"
   ]
  },
  {
   "cell_type": "code",
   "execution_count": null,
   "id": "4f200429",
   "metadata": {},
   "outputs": [],
   "source": [
    "#If at least one of the item within the bool_list is False, then that means there is at least one charater within the \n",
    "#DNA sequence is not A,T,C or G.We could use the count() function to count the number of False in the bool_list\n",
    "\n",
    "Count_False=bool_list.count(False)\n",
    "print(Count_False)\n",
    "if Count_False >= 1:\n",
    "    print('Input contains illegal character(s). The input DNA string should only contain A,T,C,G.')"
   ]
  },
  {
   "cell_type": "code",
   "execution_count": null,
   "id": "cbf1250a",
   "metadata": {},
   "outputs": [],
   "source": [
    "#The all() function takes a list of boolean variables as the input and returns True only if all of the items\n",
    "#within the input list are True\n",
    "\n",
    "all_char_legal=all(bool_list)\n",
    "print(all_char_legal)\n",
    "if not all_char_legal:\n",
    "    print ('Input contains illegal character(s). The input DNA string should only contain A,T,C,G.')"
   ]
  },
  {
   "cell_type": "markdown",
   "id": "aa77239f",
   "metadata": {},
   "source": [
    "## 4. While Loop Example: Fibonacci Sequence Generator\n",
    "\n",
    "<br>Fibonacci Sequence: starts with 1, 1. Then from the third number, every number would be the sum of the previous two numbers.\n",
    "<br>For example: 1,1,2,3,5,8,13,...\n",
    "<br>The fibonacci(upper_limit) function prints out a fibonacci sequence whose last number is no greater than the upper_limit input\n"
   ]
  },
  {
   "cell_type": "code",
   "execution_count": 37,
   "id": "b3df56b9",
   "metadata": {},
   "outputs": [],
   "source": [
    "def fibonacci(upper_limit):\n",
    "    n_1=1\n",
    "    n_2=1\n",
    "    print(n_1)\n",
    "    print(n_2)\n",
    "    #define n first before the while loop with a placeholder value\n",
    "    n=0\n",
    "    while n<=upper_limit:\n",
    "        n=n_1+n_2\n",
    "        #solve the problem of printing out one extra value after the n exceeds the upper_limit\n",
    "        #and breaks from the while loop\n",
    "        if n<=upper_limit:\n",
    "            print(n)\n",
    "        #update n_1 and n_2 per iteration\n",
    "        n_1=n_2\n",
    "        n_2=n"
   ]
  },
  {
   "cell_type": "code",
   "execution_count": 38,
   "id": "ba3dd7d7",
   "metadata": {
    "scrolled": true
   },
   "outputs": [
    {
     "name": "stdout",
     "output_type": "stream",
     "text": [
      "1\n",
      "1\n",
      "2\n",
      "3\n",
      "5\n",
      "8\n",
      "13\n",
      "21\n",
      "34\n",
      "55\n",
      "89\n",
      "144\n",
      "233\n",
      "377\n"
     ]
    }
   ],
   "source": [
    "fibonacci(500)"
   ]
  },
  {
   "cell_type": "markdown",
   "id": "4d3895c9",
   "metadata": {},
   "source": [
    "## 5. OOP Example: Car() Class"
   ]
  },
  {
   "cell_type": "code",
   "execution_count": 39,
   "id": "37e4b1d2",
   "metadata": {},
   "outputs": [],
   "source": [
    "###Create a car() class\n",
    "\n",
    "class car():\n",
    "    \n",
    "    #attributes\n",
    "    color = 'Black' #color of the car\n",
    "    year = 2020 #year of the car\n",
    "    mpg = 20 #milage of the car\n",
    "    speed = 80 #current speed of the car\n",
    "    is_stopped = False\n",
    "    \n",
    "    #methods \n",
    "    def accelerate(self):\n",
    "        self.speed=self.speed+20\n",
    "        #exercise: similar to the brake() method below, try to add a max_speed attribute with your desired\n",
    "        #value and reset the speed of the car class to the max_speed \n",
    "        #if the speed after running the accelerate() method is above the max_speed\n",
    "        print(\"the speed of the car now is \"+str(car.speed))\n",
    "    \n",
    "    def brake(self):\n",
    "        self.speed=self.speed-50\n",
    "        if self.speed<0:\n",
    "            print('speed can not be negative.')\n",
    "            self.speed = 0\n",
    "        print(\"the speed of the car now is \"+str(car.speed))\n",
    "        \n",
    "    def stop(self):\n",
    "        self.is_stopped= True\n",
    "        self.speed = 0\n",
    "        print('The car has stopped')\n",
    "    def start(self):\n",
    "        if self.is_stopped == False:\n",
    "            raise ValueError('can only start the car when it is stopped')\n",
    "        else:\n",
    "            self.is_stopped = False\n",
    "            self.speed = 20\n",
    "            print('The car has started')"
   ]
  },
  {
   "cell_type": "code",
   "execution_count": 40,
   "id": "b61b4bdd",
   "metadata": {},
   "outputs": [
    {
     "name": "stdout",
     "output_type": "stream",
     "text": [
      "20\n",
      "Black\n",
      "The car has stopped\n",
      "The car has started\n",
      "20\n",
      "False\n"
     ]
    }
   ],
   "source": [
    "#creating an instance of the car() class\n",
    "\n",
    "my_car=car()\n",
    "\n",
    "#get my_car attributes\n",
    "print(my_car.mpg)\n",
    "print(my_car.color)\n",
    "\n",
    "#call my_car methods\n",
    "my_car.stop()\n",
    "my_car.start()\n",
    "print(my_car.speed)\n",
    "print(my_car.is_stopped)"
   ]
  },
  {
   "cell_type": "code",
   "execution_count": 41,
   "id": "dd5144ab",
   "metadata": {},
   "outputs": [],
   "source": [
    "###Use __init__ keyword to specify instance-specific attributes of a object\n",
    "\n",
    "class car():\n",
    "    \n",
    "    #initialize instance-specific attributes\n",
    "    def __init__(self,color,year,mpg,speed):\n",
    "        self.color = color\n",
    "        self.year = year\n",
    "        self.mpg = mpg\n",
    "        self.speed = speed\n",
    "        #here I am creating a is_stopped attribute that\n",
    "        #checks whether the speed attribute is 0.\n",
    "        #Note that since this is_stopped attribute \n",
    "        #depends on the value of self.speed and \n",
    "        #self.speed is only defined within the def __init__() block,\n",
    "        #you can not define is_stopped outside of the \n",
    "        #def __init__() block like is_stopped = speed == 0\n",
    "        self.is_stopped = self.speed == 0\n",
    "    \n",
    "    #methods \n",
    "    def accelerate(self):\n",
    "        self.speed=self.speed+20\n",
    "        print(\"the speed of the car now is \"+str(car.speed))\n",
    "    \n",
    "    def brake(self):\n",
    "        self.speed=self.speed-50\n",
    "        print(\"the speed of the car now is \"+str(car.speed))\n",
    "    def stop(self):\n",
    "        self.is_stopped= True\n",
    "        self.speed = 0\n",
    "        print('The car has stopped')\n",
    "    def start(self):\n",
    "        if car.is_stopped == False:\n",
    "            raise ValueError('can only start the car when it is stopped')\n",
    "        else:\n",
    "            self.is_stopped = False\n",
    "            self.speed = 20\n",
    "            print('The car has started')"
   ]
  },
  {
   "cell_type": "code",
   "execution_count": 42,
   "id": "7165290a",
   "metadata": {},
   "outputs": [
    {
     "name": "stdout",
     "output_type": "stream",
     "text": [
      "False\n"
     ]
    }
   ],
   "source": [
    "#creating an instance of the car() class with instance-specific attributes\n",
    "\n",
    "my_car_3 = car('white',2018,25,80)\n",
    "print(my_car_3.is_stopped)"
   ]
  },
  {
   "cell_type": "markdown",
   "id": "559c0f50",
   "metadata": {},
   "source": [
    "## 6. Numpy Example: how to slice array and perform methods with different axis values "
   ]
  },
  {
   "cell_type": "code",
   "execution_count": 27,
   "id": "855798d1",
   "metadata": {
    "scrolled": true
   },
   "outputs": [
    {
     "name": "stdout",
     "output_type": "stream",
     "text": [
      "[[1 6 0 7 7 5 9 4]\n",
      " [0 8 5 3 7 2 7 3]\n",
      " [0 7 4 0 2 3 2 8]\n",
      " [8 8 5 8 4 9 3 5]\n",
      " [7 8 5 1 0 8 5 5]\n",
      " [1 5 3 7 8 1 2 7]\n",
      " [2 9 0 9 8 2 8 0]\n",
      " [9 7 2 0 3 5 5 3]\n",
      " [1 7 2 7 6 7 3 2]\n",
      " [5 4 4 5 8 8 2 1]]\n"
     ]
    }
   ],
   "source": [
    "import numpy as np\n",
    "#creating a 10*8 array with random integer values from 0 to 9\n",
    "my_matrix = np.random.randint(0,10,size=(10,8))\n",
    "print(my_matrix)"
   ]
  },
  {
   "cell_type": "markdown",
   "id": "10ede915",
   "metadata": {},
   "source": [
    "The syntax for slicing np array is `array[row_number,column_number]`."
   ]
  },
  {
   "cell_type": "code",
   "execution_count": 28,
   "id": "b06e8b78",
   "metadata": {},
   "outputs": [
    {
     "data": {
      "text/plain": [
       "1"
      ]
     },
     "execution_count": 28,
     "metadata": {},
     "output_type": "execute_result"
    }
   ],
   "source": [
    "#silcing out a single value with row number 0 and column number 0\n",
    "#i.e. the value at the top left corner\n",
    "my_matrix[0,0]"
   ]
  },
  {
   "cell_type": "markdown",
   "id": "de16c2e7",
   "metadata": {},
   "source": [
    "Remember that when slicing multiple values from a list or string, we used the syntax `list[start_pos:end_pos]`. We could also apply this to slicing out multiple values from the np array."
   ]
  },
  {
   "cell_type": "code",
   "execution_count": 29,
   "id": "d904bffa",
   "metadata": {},
   "outputs": [
    {
     "data": {
      "text/plain": [
       "array([[1, 6, 0],\n",
       "       [0, 8, 5],\n",
       "       [0, 7, 4]])"
      ]
     },
     "execution_count": 29,
     "metadata": {},
     "output_type": "execute_result"
    }
   ],
   "source": [
    "#silcing out a single value with row number 0 to 3 and column number 0 to 3\n",
    "#i.e. the 3*3 array on the top left corner\n",
    "my_matrix[0:3,0:3]"
   ]
  },
  {
   "cell_type": "markdown",
   "id": "1ad517f0",
   "metadata": {},
   "source": [
    "To slice out row(s), leave the column_number as blank to include all column numbers and indicate the row(s) you would like to slice out for the row_number."
   ]
  },
  {
   "cell_type": "code",
   "execution_count": 30,
   "id": "3a9fc40b",
   "metadata": {},
   "outputs": [
    {
     "data": {
      "text/plain": [
       "array([1, 6, 0, 7, 7, 5, 9, 4])"
      ]
     },
     "execution_count": 30,
     "metadata": {},
     "output_type": "execute_result"
    }
   ],
   "source": [
    "#slicing out the first row of the array\n",
    "my_matrix[0,]"
   ]
  },
  {
   "cell_type": "markdown",
   "id": "a4177e11",
   "metadata": {},
   "source": [
    "To slice out columns(s), you could not leave the row_number as blank to include all row numbers. Instead, use `:` for the row_number without specifing start_pos and end_pos to include all row numbers. Then indicate the row(s) you would like to slice out for the row_number."
   ]
  },
  {
   "cell_type": "code",
   "execution_count": 31,
   "id": "d7d2abc4",
   "metadata": {},
   "outputs": [
    {
     "data": {
      "text/plain": [
       "array([4, 3, 8, 5, 5, 7, 0, 3, 2, 1])"
      ]
     },
     "execution_count": 31,
     "metadata": {},
     "output_type": "execute_result"
    }
   ],
   "source": [
    "#slicing out the last column of the array\n",
    "my_matrix[:,-1]"
   ]
  },
  {
   "cell_type": "markdown",
   "id": "fc7c8938",
   "metadata": {},
   "source": [
    "When performing method on arrays, set `axis=0` to perform the method on each column and `axis=1` to perform the method on each row. "
   ]
  },
  {
   "cell_type": "code",
   "execution_count": 32,
   "id": "b183a812",
   "metadata": {},
   "outputs": [
    {
     "data": {
      "text/plain": [
       "array([4.875, 4.375, 3.25 , 6.25 , 4.875, 4.25 , 4.75 , 4.25 , 4.375,\n",
       "       4.625])"
      ]
     },
     "execution_count": 32,
     "metadata": {},
     "output_type": "execute_result"
    }
   ],
   "source": [
    "#calculating the average value for each column in the array\n",
    "np.mean(my_matrix,axis = 1)"
   ]
  },
  {
   "cell_type": "code",
   "execution_count": 33,
   "id": "a454029c",
   "metadata": {},
   "outputs": [
    {
     "data": {
      "text/plain": [
       "array([3.4, 6.9, 3. , 4.7, 5.3, 5. , 4.6, 3.8])"
      ]
     },
     "execution_count": 33,
     "metadata": {},
     "output_type": "execute_result"
    }
   ],
   "source": [
    "#calculating the average value for each row in the array\n",
    "np.mean(my_matrix,axis = 0)"
   ]
  },
  {
   "cell_type": "markdown",
   "id": "4c8fa39a",
   "metadata": {},
   "source": [
    "## 7. pyplot example: ploting data on different graphs using `subplots()` or plot data on the same graph"
   ]
  },
  {
   "cell_type": "markdown",
   "id": "7f0f2649",
   "metadata": {
    "slideshow": {
     "slide_type": ""
    }
   },
   "source": [
    "In this example, we will going to plot the line graph for the first four columns in the my_matrix array from the previous examples in two ways: ploting them on different graphs using `subplots()` or plot them on the same graph"
   ]
  },
  {
   "cell_type": "code",
   "execution_count": 34,
   "id": "956ca00b",
   "metadata": {},
   "outputs": [],
   "source": [
    "import matplotlib.pyplot as plt"
   ]
  },
  {
   "cell_type": "code",
   "execution_count": 35,
   "id": "0d5a72ab",
   "metadata": {},
   "outputs": [
    {
     "data": {
      "image/png": "[encoded data removed]",
      "text/plain": [
       "<Figure size 1080x360 with 4 Axes>"
      ]
     },
     "metadata": {
      "needs_background": "light"
     },
     "output_type": "display_data"
    }
   ],
   "source": [
    "fig, ax = plt.subplots(2,2,figsize=(15,5))\n",
    "#I added fig.tight_layout() line to prevent the titles overlapping with the x-axes of the subplots\n",
    "fig.tight_layout()\n",
    "ax[0,0].plot(my_matrix[:,0])\n",
    "ax[0,1].plot(my_matrix[:,1])\n",
    "ax[1,0].plot(my_matrix[:,2])\n",
    "ax[1,1].plot(my_matrix[:,3])\n",
    "#add titles to each subplot\n",
    "ax[0,0].set_title(\"column 1\")\n",
    "ax[0,1].set_title(\"column 2\")\n",
    "ax[1,0].set_title(\"column 3\")\n",
    "ax[1,1].set_title(\"column 4\")\n",
    "plt.show()"
   ]
  },
  {
   "cell_type": "code",
   "execution_count": 36,
   "id": "994ddde5",
   "metadata": {},
   "outputs": [
    {
     "data": {
      "image/png": "[encoded data removed]",
      "text/plain": [
       "<Figure size 432x288 with 1 Axes>"
      ]
     },
     "metadata": {
      "needs_background": "light"
     },
     "output_type": "display_data"
    }
   ],
   "source": [
    "plt.plot(my_matrix[:,0])\n",
    "plt.plot(my_matrix[:,1])\n",
    "plt.plot(my_matrix[:,2])\n",
    "plt.plot(my_matrix[:,3])\n",
    "#add legends to the graph\n",
    "plt.legend([\"column 1\",\"column 2\",\"column 3\",\"column 4\"])\n",
    "#add title to the graph\n",
    "plt.title(\"4 columns in one graph\")\n",
    "plt.show()"
   ]
  },
  {
   "cell_type": "markdown",
   "id": "08daece4",
   "metadata": {},
   "source": [
    "useful pyplot methods:\n",
    "    \n",
    "plt:\n",
    "<br>`xlabel()` and `ylabel()` to set titles for x- and y-axis\n",
    "<br>`legend()` to add legends when plotting multiple groups of data on the same graph\n",
    "<br>`title()` to add title for the graph\n",
    "\n",
    "subplots:\n",
    "<br>`set_xlabel()` and `set_ylabel()` to set titles for x- and y-axis for each subplot\n",
    "<br>`set_title()` to add title to each subplot"
   ]
  },
  {
   "cell_type": "markdown",
   "id": "3ec79dff",
   "metadata": {},
   "source": [
    "## 8. Panda Example: working with variant calling tsv file"
   ]
  },
  {
   "cell_type": "code",
   "execution_count": 52,
   "id": "5a486d62",
   "metadata": {},
   "outputs": [
    {
     "data": {
      "text/html": [
       "<div>\n",
       "<style scoped>\n",
       "    .dataframe tbody tr th:only-of-type {\n",
       "        vertical-align: middle;\n",
       "    }\n",
       "\n",
       "    .dataframe tbody tr th {\n",
       "        vertical-align: top;\n",
       "    }\n",
       "\n",
       "    .dataframe thead th {\n",
       "        text-align: right;\n",
       "    }\n",
       "</style>\n",
       "<table border=\"1\" class=\"dataframe\">\n",
       "  <thead>\n",
       "    <tr style=\"text-align: right;\">\n",
       "      <th></th>\n",
       "      <th>#ID</th>\n",
       "      <th>CHROM</th>\n",
       "      <th>POS</th>\n",
       "      <th>REF</th>\n",
       "      <th>ALT</th>\n",
       "      <th>ANNO</th>\n",
       "      <th>GENE</th>\n",
       "      <th>GNOMAD_FREQ</th>\n",
       "      <th>REPEAT_MASKER</th>\n",
       "      <th>SEGDUP</th>\n",
       "      <th>...</th>\n",
       "      <th>UPPER_CI</th>\n",
       "      <th>CI_IS_GREATER</th>\n",
       "      <th>NORMAL_REF_COUNT</th>\n",
       "      <th>NORMAL_ALT_COUNT</th>\n",
       "      <th>NORMAL_MAF</th>\n",
       "      <th>NORMAL_LOWER_CI</th>\n",
       "      <th>NORMAL_UPPER_CI</th>\n",
       "      <th>NORMAL_CI_IS_GREATER</th>\n",
       "      <th>TUMOR_IS_BLOOD</th>\n",
       "      <th>TUMOR_IS_SPERM</th>\n",
       "    </tr>\n",
       "  </thead>\n",
       "  <tbody>\n",
       "    <tr>\n",
       "      <th>0</th>\n",
       "      <td>RE-2302_Br</td>\n",
       "      <td>1</td>\n",
       "      <td>1959038</td>\n",
       "      <td>G</td>\n",
       "      <td>T</td>\n",
       "      <td>exonic:nonsynonymous_SNV</td>\n",
       "      <td>GABRD:NM_000815:exon5:c.G493T:p.D165Y,</td>\n",
       "      <td>0.0</td>\n",
       "      <td>0.0</td>\n",
       "      <td>0.0</td>\n",
       "      <td>...</td>\n",
       "      <td>0.011798</td>\n",
       "      <td>FFFFF_FFFFF</td>\n",
       "      <td>388.0</td>\n",
       "      <td>0.0</td>\n",
       "      <td>0.0</td>\n",
       "      <td>0.0</td>\n",
       "      <td>0.009804</td>\n",
       "      <td>FFFFF_FFFFF</td>\n",
       "      <td>NaN</td>\n",
       "      <td>NaN</td>\n",
       "    </tr>\n",
       "    <tr>\n",
       "      <th>1</th>\n",
       "      <td>RE-2152_Br</td>\n",
       "      <td>1</td>\n",
       "      <td>3638621</td>\n",
       "      <td>G</td>\n",
       "      <td>T</td>\n",
       "      <td>exonic:nonsynonymous_SNV</td>\n",
       "      <td>TP73:NM_001204185:exon5:c.G466T:p.A156S,TP73:N...</td>\n",
       "      <td>0.0</td>\n",
       "      <td>0.0</td>\n",
       "      <td>0.0</td>\n",
       "      <td>...</td>\n",
       "      <td>0.038865</td>\n",
       "      <td>FFFFF_FFFFF</td>\n",
       "      <td>429.0</td>\n",
       "      <td>0.0</td>\n",
       "      <td>0.0</td>\n",
       "      <td>0.0</td>\n",
       "      <td>0.008875</td>\n",
       "      <td>FFFFF_FFFFF</td>\n",
       "      <td>NaN</td>\n",
       "      <td>NaN</td>\n",
       "    </tr>\n",
       "    <tr>\n",
       "      <th>2</th>\n",
       "      <td>RE-8922_Br</td>\n",
       "      <td>1</td>\n",
       "      <td>3643776</td>\n",
       "      <td>T</td>\n",
       "      <td>C</td>\n",
       "      <td>exonic:nonsynonymous_SNV</td>\n",
       "      <td>TP73:NM_001204185:exon7:c.T830C:p.L277P,TP73:N...</td>\n",
       "      <td>0.0</td>\n",
       "      <td>0.0</td>\n",
       "      <td>0.0</td>\n",
       "      <td>...</td>\n",
       "      <td>0.041060</td>\n",
       "      <td>FFFFF_FFFFF</td>\n",
       "      <td>425.0</td>\n",
       "      <td>0.0</td>\n",
       "      <td>0.0</td>\n",
       "      <td>0.0</td>\n",
       "      <td>0.008958</td>\n",
       "      <td>FFFFF_FFFFF</td>\n",
       "      <td>NaN</td>\n",
       "      <td>NaN</td>\n",
       "    </tr>\n",
       "    <tr>\n",
       "      <th>3</th>\n",
       "      <td>RE-1022_Br</td>\n",
       "      <td>1</td>\n",
       "      <td>3807595</td>\n",
       "      <td>G</td>\n",
       "      <td>T</td>\n",
       "      <td>exonic:nonsynonymous_SNV</td>\n",
       "      <td>C1orf174:NM_207356:exon3:c.C156A:p.D52E,</td>\n",
       "      <td>0.0</td>\n",
       "      <td>0.0</td>\n",
       "      <td>0.0</td>\n",
       "      <td>...</td>\n",
       "      <td>0.024650</td>\n",
       "      <td>FFFFF_FFFFF</td>\n",
       "      <td>325.0</td>\n",
       "      <td>0.0</td>\n",
       "      <td>0.0</td>\n",
       "      <td>0.0</td>\n",
       "      <td>0.011682</td>\n",
       "      <td>FFFFF_FFFFF</td>\n",
       "      <td>NaN</td>\n",
       "      <td>NaN</td>\n",
       "    </tr>\n",
       "    <tr>\n",
       "      <th>4</th>\n",
       "      <td>RE-9093_Br</td>\n",
       "      <td>1</td>\n",
       "      <td>5965833</td>\n",
       "      <td>G</td>\n",
       "      <td>T</td>\n",
       "      <td>exonic:nonsynonymous_SNV</td>\n",
       "      <td>NPHP4:NM_001291594:exon10:c.C86A:p.P29Q,NPHP4:...</td>\n",
       "      <td>0.0</td>\n",
       "      <td>1.0</td>\n",
       "      <td>0.0</td>\n",
       "      <td>...</td>\n",
       "      <td>0.018572</td>\n",
       "      <td>FFFFF_FFFFF</td>\n",
       "      <td>378.0</td>\n",
       "      <td>0.0</td>\n",
       "      <td>0.0</td>\n",
       "      <td>0.0</td>\n",
       "      <td>0.010060</td>\n",
       "      <td>FFFFF_FFFFF</td>\n",
       "      <td>NaN</td>\n",
       "      <td>NaN</td>\n",
       "    </tr>\n",
       "  </tbody>\n",
       "</table>\n",
       "<p>5 rows × 29 columns</p>\n",
       "</div>"
      ],
      "text/plain": [
       "          #ID  CHROM      POS REF ALT                      ANNO  \\\n",
       "0  RE-2302_Br      1  1959038   G   T  exonic:nonsynonymous_SNV   \n",
       "1  RE-2152_Br      1  3638621   G   T  exonic:nonsynonymous_SNV   \n",
       "2  RE-8922_Br      1  3643776   T   C  exonic:nonsynonymous_SNV   \n",
       "3  RE-1022_Br      1  3807595   G   T  exonic:nonsynonymous_SNV   \n",
       "4  RE-9093_Br      1  5965833   G   T  exonic:nonsynonymous_SNV   \n",
       "\n",
       "                                                GENE  GNOMAD_FREQ  \\\n",
       "0             GABRD:NM_000815:exon5:c.G493T:p.D165Y,          0.0   \n",
       "1  TP73:NM_001204185:exon5:c.G466T:p.A156S,TP73:N...          0.0   \n",
       "2  TP73:NM_001204185:exon7:c.T830C:p.L277P,TP73:N...          0.0   \n",
       "3           C1orf174:NM_207356:exon3:c.C156A:p.D52E,          0.0   \n",
       "4  NPHP4:NM_001291594:exon10:c.C86A:p.P29Q,NPHP4:...          0.0   \n",
       "\n",
       "   REPEAT_MASKER  SEGDUP  ...  UPPER_CI CI_IS_GREATER  NORMAL_REF_COUNT  \\\n",
       "0            0.0     0.0  ...  0.011798   FFFFF_FFFFF             388.0   \n",
       "1            0.0     0.0  ...  0.038865   FFFFF_FFFFF             429.0   \n",
       "2            0.0     0.0  ...  0.041060   FFFFF_FFFFF             425.0   \n",
       "3            0.0     0.0  ...  0.024650   FFFFF_FFFFF             325.0   \n",
       "4            1.0     0.0  ...  0.018572   FFFFF_FFFFF             378.0   \n",
       "\n",
       "   NORMAL_ALT_COUNT NORMAL_MAF  NORMAL_LOWER_CI  NORMAL_UPPER_CI  \\\n",
       "0               0.0        0.0              0.0         0.009804   \n",
       "1               0.0        0.0              0.0         0.008875   \n",
       "2               0.0        0.0              0.0         0.008958   \n",
       "3               0.0        0.0              0.0         0.011682   \n",
       "4               0.0        0.0              0.0         0.010060   \n",
       "\n",
       "   NORMAL_CI_IS_GREATER  TUMOR_IS_BLOOD  TUMOR_IS_SPERM  \n",
       "0           FFFFF_FFFFF             NaN             NaN  \n",
       "1           FFFFF_FFFFF             NaN             NaN  \n",
       "2           FFFFF_FFFFF             NaN             NaN  \n",
       "3           FFFFF_FFFFF             NaN             NaN  \n",
       "4           FFFFF_FFFFF             NaN             NaN  \n",
       "\n",
       "[5 rows x 29 columns]"
      ]
     },
     "execution_count": 52,
     "metadata": {},
     "output_type": "execute_result"
    }
   ],
   "source": [
    "#read in the example.tsv file \n",
    "import pandas as pd\n",
    "variants_df = pd.read_csv('example.tsv',sep='\\t')\n",
    "variants_df.head()"
   ]
  },
  {
   "cell_type": "code",
   "execution_count": 53,
   "id": "28ec8ef5",
   "metadata": {},
   "outputs": [
    {
     "data": {
      "text/html": [
       "<div>\n",
       "<style scoped>\n",
       "    .dataframe tbody tr th:only-of-type {\n",
       "        vertical-align: middle;\n",
       "    }\n",
       "\n",
       "    .dataframe tbody tr th {\n",
       "        vertical-align: top;\n",
       "    }\n",
       "\n",
       "    .dataframe thead th {\n",
       "        text-align: right;\n",
       "    }\n",
       "</style>\n",
       "<table border=\"1\" class=\"dataframe\">\n",
       "  <thead>\n",
       "    <tr style=\"text-align: right;\">\n",
       "      <th></th>\n",
       "      <th>CHROM</th>\n",
       "      <th>POS</th>\n",
       "      <th>REF</th>\n",
       "      <th>ALT</th>\n",
       "      <th>ANNO</th>\n",
       "      <th>GENE</th>\n",
       "      <th>GNOMAD_FREQ</th>\n",
       "      <th>REPEAT_MASKER</th>\n",
       "      <th>SEGDUP</th>\n",
       "      <th>HOMOPOLYMER</th>\n",
       "      <th>...</th>\n",
       "      <th>UPPER_CI</th>\n",
       "      <th>CI_IS_GREATER</th>\n",
       "      <th>NORMAL_REF_COUNT</th>\n",
       "      <th>NORMAL_ALT_COUNT</th>\n",
       "      <th>NORMAL_MAF</th>\n",
       "      <th>NORMAL_LOWER_CI</th>\n",
       "      <th>NORMAL_UPPER_CI</th>\n",
       "      <th>NORMAL_CI_IS_GREATER</th>\n",
       "      <th>TUMOR_IS_BLOOD</th>\n",
       "      <th>TUMOR_IS_SPERM</th>\n",
       "    </tr>\n",
       "    <tr>\n",
       "      <th>#ID</th>\n",
       "      <th></th>\n",
       "      <th></th>\n",
       "      <th></th>\n",
       "      <th></th>\n",
       "      <th></th>\n",
       "      <th></th>\n",
       "      <th></th>\n",
       "      <th></th>\n",
       "      <th></th>\n",
       "      <th></th>\n",
       "      <th></th>\n",
       "      <th></th>\n",
       "      <th></th>\n",
       "      <th></th>\n",
       "      <th></th>\n",
       "      <th></th>\n",
       "      <th></th>\n",
       "      <th></th>\n",
       "      <th></th>\n",
       "      <th></th>\n",
       "      <th></th>\n",
       "    </tr>\n",
       "  </thead>\n",
       "  <tbody>\n",
       "    <tr>\n",
       "      <th>RE-2302_Br</th>\n",
       "      <td>1</td>\n",
       "      <td>1959038</td>\n",
       "      <td>G</td>\n",
       "      <td>T</td>\n",
       "      <td>exonic:nonsynonymous_SNV</td>\n",
       "      <td>GABRD:NM_000815:exon5:c.G493T:p.D165Y,</td>\n",
       "      <td>0.0</td>\n",
       "      <td>0.0</td>\n",
       "      <td>0.0</td>\n",
       "      <td>0</td>\n",
       "      <td>...</td>\n",
       "      <td>0.011798</td>\n",
       "      <td>FFFFF_FFFFF</td>\n",
       "      <td>388.0</td>\n",
       "      <td>0.0</td>\n",
       "      <td>0.0</td>\n",
       "      <td>0.0</td>\n",
       "      <td>0.009804</td>\n",
       "      <td>FFFFF_FFFFF</td>\n",
       "      <td>NaN</td>\n",
       "      <td>NaN</td>\n",
       "    </tr>\n",
       "    <tr>\n",
       "      <th>RE-2152_Br</th>\n",
       "      <td>1</td>\n",
       "      <td>3638621</td>\n",
       "      <td>G</td>\n",
       "      <td>T</td>\n",
       "      <td>exonic:nonsynonymous_SNV</td>\n",
       "      <td>TP73:NM_001204185:exon5:c.G466T:p.A156S,TP73:N...</td>\n",
       "      <td>0.0</td>\n",
       "      <td>0.0</td>\n",
       "      <td>0.0</td>\n",
       "      <td>0</td>\n",
       "      <td>...</td>\n",
       "      <td>0.038865</td>\n",
       "      <td>FFFFF_FFFFF</td>\n",
       "      <td>429.0</td>\n",
       "      <td>0.0</td>\n",
       "      <td>0.0</td>\n",
       "      <td>0.0</td>\n",
       "      <td>0.008875</td>\n",
       "      <td>FFFFF_FFFFF</td>\n",
       "      <td>NaN</td>\n",
       "      <td>NaN</td>\n",
       "    </tr>\n",
       "    <tr>\n",
       "      <th>RE-8922_Br</th>\n",
       "      <td>1</td>\n",
       "      <td>3643776</td>\n",
       "      <td>T</td>\n",
       "      <td>C</td>\n",
       "      <td>exonic:nonsynonymous_SNV</td>\n",
       "      <td>TP73:NM_001204185:exon7:c.T830C:p.L277P,TP73:N...</td>\n",
       "      <td>0.0</td>\n",
       "      <td>0.0</td>\n",
       "      <td>0.0</td>\n",
       "      <td>0</td>\n",
       "      <td>...</td>\n",
       "      <td>0.041060</td>\n",
       "      <td>FFFFF_FFFFF</td>\n",
       "      <td>425.0</td>\n",
       "      <td>0.0</td>\n",
       "      <td>0.0</td>\n",
       "      <td>0.0</td>\n",
       "      <td>0.008958</td>\n",
       "      <td>FFFFF_FFFFF</td>\n",
       "      <td>NaN</td>\n",
       "      <td>NaN</td>\n",
       "    </tr>\n",
       "    <tr>\n",
       "      <th>RE-1022_Br</th>\n",
       "      <td>1</td>\n",
       "      <td>3807595</td>\n",
       "      <td>G</td>\n",
       "      <td>T</td>\n",
       "      <td>exonic:nonsynonymous_SNV</td>\n",
       "      <td>C1orf174:NM_207356:exon3:c.C156A:p.D52E,</td>\n",
       "      <td>0.0</td>\n",
       "      <td>0.0</td>\n",
       "      <td>0.0</td>\n",
       "      <td>0</td>\n",
       "      <td>...</td>\n",
       "      <td>0.024650</td>\n",
       "      <td>FFFFF_FFFFF</td>\n",
       "      <td>325.0</td>\n",
       "      <td>0.0</td>\n",
       "      <td>0.0</td>\n",
       "      <td>0.0</td>\n",
       "      <td>0.011682</td>\n",
       "      <td>FFFFF_FFFFF</td>\n",
       "      <td>NaN</td>\n",
       "      <td>NaN</td>\n",
       "    </tr>\n",
       "    <tr>\n",
       "      <th>RE-9093_Br</th>\n",
       "      <td>1</td>\n",
       "      <td>5965833</td>\n",
       "      <td>G</td>\n",
       "      <td>T</td>\n",
       "      <td>exonic:nonsynonymous_SNV</td>\n",
       "      <td>NPHP4:NM_001291594:exon10:c.C86A:p.P29Q,NPHP4:...</td>\n",
       "      <td>0.0</td>\n",
       "      <td>1.0</td>\n",
       "      <td>0.0</td>\n",
       "      <td>0</td>\n",
       "      <td>...</td>\n",
       "      <td>0.018572</td>\n",
       "      <td>FFFFF_FFFFF</td>\n",
       "      <td>378.0</td>\n",
       "      <td>0.0</td>\n",
       "      <td>0.0</td>\n",
       "      <td>0.0</td>\n",
       "      <td>0.010060</td>\n",
       "      <td>FFFFF_FFFFF</td>\n",
       "      <td>NaN</td>\n",
       "      <td>NaN</td>\n",
       "    </tr>\n",
       "  </tbody>\n",
       "</table>\n",
       "<p>5 rows × 28 columns</p>\n",
       "</div>"
      ],
      "text/plain": [
       "            CHROM      POS REF ALT                      ANNO  \\\n",
       "#ID                                                            \n",
       "RE-2302_Br      1  1959038   G   T  exonic:nonsynonymous_SNV   \n",
       "RE-2152_Br      1  3638621   G   T  exonic:nonsynonymous_SNV   \n",
       "RE-8922_Br      1  3643776   T   C  exonic:nonsynonymous_SNV   \n",
       "RE-1022_Br      1  3807595   G   T  exonic:nonsynonymous_SNV   \n",
       "RE-9093_Br      1  5965833   G   T  exonic:nonsynonymous_SNV   \n",
       "\n",
       "                                                         GENE  GNOMAD_FREQ  \\\n",
       "#ID                                                                          \n",
       "RE-2302_Br             GABRD:NM_000815:exon5:c.G493T:p.D165Y,          0.0   \n",
       "RE-2152_Br  TP73:NM_001204185:exon5:c.G466T:p.A156S,TP73:N...          0.0   \n",
       "RE-8922_Br  TP73:NM_001204185:exon7:c.T830C:p.L277P,TP73:N...          0.0   \n",
       "RE-1022_Br           C1orf174:NM_207356:exon3:c.C156A:p.D52E,          0.0   \n",
       "RE-9093_Br  NPHP4:NM_001291594:exon10:c.C86A:p.P29Q,NPHP4:...          0.0   \n",
       "\n",
       "            REPEAT_MASKER  SEGDUP  HOMOPOLYMER  ...  UPPER_CI  CI_IS_GREATER  \\\n",
       "#ID                                             ...                            \n",
       "RE-2302_Br            0.0     0.0            0  ...  0.011798    FFFFF_FFFFF   \n",
       "RE-2152_Br            0.0     0.0            0  ...  0.038865    FFFFF_FFFFF   \n",
       "RE-8922_Br            0.0     0.0            0  ...  0.041060    FFFFF_FFFFF   \n",
       "RE-1022_Br            0.0     0.0            0  ...  0.024650    FFFFF_FFFFF   \n",
       "RE-9093_Br            1.0     0.0            0  ...  0.018572    FFFFF_FFFFF   \n",
       "\n",
       "            NORMAL_REF_COUNT NORMAL_ALT_COUNT  NORMAL_MAF  NORMAL_LOWER_CI  \\\n",
       "#ID                                                                          \n",
       "RE-2302_Br             388.0              0.0         0.0              0.0   \n",
       "RE-2152_Br             429.0              0.0         0.0              0.0   \n",
       "RE-8922_Br             425.0              0.0         0.0              0.0   \n",
       "RE-1022_Br             325.0              0.0         0.0              0.0   \n",
       "RE-9093_Br             378.0              0.0         0.0              0.0   \n",
       "\n",
       "            NORMAL_UPPER_CI  NORMAL_CI_IS_GREATER  TUMOR_IS_BLOOD  \\\n",
       "#ID                                                                 \n",
       "RE-2302_Br         0.009804           FFFFF_FFFFF             NaN   \n",
       "RE-2152_Br         0.008875           FFFFF_FFFFF             NaN   \n",
       "RE-8922_Br         0.008958           FFFFF_FFFFF             NaN   \n",
       "RE-1022_Br         0.011682           FFFFF_FFFFF             NaN   \n",
       "RE-9093_Br         0.010060           FFFFF_FFFFF             NaN   \n",
       "\n",
       "           TUMOR_IS_SPERM  \n",
       "#ID                        \n",
       "RE-2302_Br            NaN  \n",
       "RE-2152_Br            NaN  \n",
       "RE-8922_Br            NaN  \n",
       "RE-1022_Br            NaN  \n",
       "RE-9093_Br            NaN  \n",
       "\n",
       "[5 rows x 28 columns]"
      ]
     },
     "execution_count": 53,
     "metadata": {},
     "output_type": "execute_result"
    }
   ],
   "source": [
    "#set the #ID column to be the index\n",
    "variants_df = variants_df.set_index('#ID')\n",
    "variants_df.head()"
   ]
  },
  {
   "cell_type": "code",
   "execution_count": 56,
   "id": "5bafca4c",
   "metadata": {},
   "outputs": [
    {
     "data": {
      "text/html": [
       "<div>\n",
       "<style scoped>\n",
       "    .dataframe tbody tr th:only-of-type {\n",
       "        vertical-align: middle;\n",
       "    }\n",
       "\n",
       "    .dataframe tbody tr th {\n",
       "        vertical-align: top;\n",
       "    }\n",
       "\n",
       "    .dataframe thead th {\n",
       "        text-align: right;\n",
       "    }\n",
       "</style>\n",
       "<table border=\"1\" class=\"dataframe\">\n",
       "  <thead>\n",
       "    <tr style=\"text-align: right;\">\n",
       "      <th></th>\n",
       "      <th>POS</th>\n",
       "      <th>REF</th>\n",
       "      <th>ALT</th>\n",
       "    </tr>\n",
       "    <tr>\n",
       "      <th>#ID</th>\n",
       "      <th></th>\n",
       "      <th></th>\n",
       "      <th></th>\n",
       "    </tr>\n",
       "  </thead>\n",
       "  <tbody>\n",
       "    <tr>\n",
       "      <th>RE-2302_Br</th>\n",
       "      <td>1959038</td>\n",
       "      <td>G</td>\n",
       "      <td>T</td>\n",
       "    </tr>\n",
       "    <tr>\n",
       "      <th>RE-2152_Br</th>\n",
       "      <td>3638621</td>\n",
       "      <td>G</td>\n",
       "      <td>T</td>\n",
       "    </tr>\n",
       "    <tr>\n",
       "      <th>RE-8922_Br</th>\n",
       "      <td>3643776</td>\n",
       "      <td>T</td>\n",
       "      <td>C</td>\n",
       "    </tr>\n",
       "    <tr>\n",
       "      <th>RE-1022_Br</th>\n",
       "      <td>3807595</td>\n",
       "      <td>G</td>\n",
       "      <td>T</td>\n",
       "    </tr>\n",
       "    <tr>\n",
       "      <th>RE-9093_Br</th>\n",
       "      <td>5965833</td>\n",
       "      <td>G</td>\n",
       "      <td>T</td>\n",
       "    </tr>\n",
       "    <tr>\n",
       "      <th>RE-2891_Br</th>\n",
       "      <td>6166405</td>\n",
       "      <td>G</td>\n",
       "      <td>T</td>\n",
       "    </tr>\n",
       "    <tr>\n",
       "      <th>RE-2389_Br</th>\n",
       "      <td>6206983</td>\n",
       "      <td>C</td>\n",
       "      <td>T</td>\n",
       "    </tr>\n",
       "    <tr>\n",
       "      <th>RE-1085_Br</th>\n",
       "      <td>6535487</td>\n",
       "      <td>G</td>\n",
       "      <td>A</td>\n",
       "    </tr>\n",
       "    <tr>\n",
       "      <th>RE-3489_Br</th>\n",
       "      <td>8390531</td>\n",
       "      <td>C</td>\n",
       "      <td>T</td>\n",
       "    </tr>\n",
       "    <tr>\n",
       "      <th>RE-8346_Br</th>\n",
       "      <td>8390765</td>\n",
       "      <td>C</td>\n",
       "      <td>T</td>\n",
       "    </tr>\n",
       "    <tr>\n",
       "      <th>RE-8921_Br</th>\n",
       "      <td>9667750</td>\n",
       "      <td>G</td>\n",
       "      <td>T</td>\n",
       "    </tr>\n",
       "    <tr>\n",
       "      <th>RE-7740_Br</th>\n",
       "      <td>9833468</td>\n",
       "      <td>G</td>\n",
       "      <td>T</td>\n",
       "    </tr>\n",
       "    <tr>\n",
       "      <th>RE-8103_Br</th>\n",
       "      <td>10195268</td>\n",
       "      <td>G</td>\n",
       "      <td>T</td>\n",
       "    </tr>\n",
       "    <tr>\n",
       "      <th>RE-4831_Br</th>\n",
       "      <td>10238858</td>\n",
       "      <td>G</td>\n",
       "      <td>T</td>\n",
       "    </tr>\n",
       "    <tr>\n",
       "      <th>RE-6121_Br</th>\n",
       "      <td>10434932</td>\n",
       "      <td>G</td>\n",
       "      <td>T</td>\n",
       "    </tr>\n",
       "    <tr>\n",
       "      <th>RE-1004_Br</th>\n",
       "      <td>11254839</td>\n",
       "      <td>G</td>\n",
       "      <td>T</td>\n",
       "    </tr>\n",
       "    <tr>\n",
       "      <th>RE-5438_Br</th>\n",
       "      <td>11586716</td>\n",
       "      <td>A</td>\n",
       "      <td>G</td>\n",
       "    </tr>\n",
       "    <tr>\n",
       "      <th>RE-3029_Br</th>\n",
       "      <td>11827355</td>\n",
       "      <td>A</td>\n",
       "      <td>G</td>\n",
       "    </tr>\n",
       "    <tr>\n",
       "      <th>RE-4310_Br</th>\n",
       "      <td>12316613</td>\n",
       "      <td>G</td>\n",
       "      <td>T</td>\n",
       "    </tr>\n",
       "  </tbody>\n",
       "</table>\n",
       "</div>"
      ],
      "text/plain": [
       "                 POS REF ALT\n",
       "#ID                         \n",
       "RE-2302_Br   1959038   G   T\n",
       "RE-2152_Br   3638621   G   T\n",
       "RE-8922_Br   3643776   T   C\n",
       "RE-1022_Br   3807595   G   T\n",
       "RE-9093_Br   5965833   G   T\n",
       "RE-2891_Br   6166405   G   T\n",
       "RE-2389_Br   6206983   C   T\n",
       "RE-1085_Br   6535487   G   A\n",
       "RE-3489_Br   8390531   C   T\n",
       "RE-8346_Br   8390765   C   T\n",
       "RE-8921_Br   9667750   G   T\n",
       "RE-7740_Br   9833468   G   T\n",
       "RE-8103_Br  10195268   G   T\n",
       "RE-4831_Br  10238858   G   T\n",
       "RE-6121_Br  10434932   G   T\n",
       "RE-1004_Br  11254839   G   T\n",
       "RE-5438_Br  11586716   A   G\n",
       "RE-3029_Br  11827355   A   G\n",
       "RE-4310_Br  12316613   G   T"
      ]
     },
     "execution_count": 56,
     "metadata": {},
     "output_type": "execute_result"
    }
   ],
   "source": [
    "#slice out column(s)\n",
    "variants_df['POS']\n",
    "variants_df[['POS','REF','ALT']]"
   ]
  },
  {
   "cell_type": "code",
   "execution_count": 58,
   "id": "5fb64351",
   "metadata": {},
   "outputs": [
    {
     "data": {
      "text/plain": [
       "CHROM                                   1\n",
       "POS                               9833468\n",
       "REF                                     G\n",
       "ALT                                     T\n",
       "ANNO                             intronic\n",
       "GENE                               CLSTN1\n",
       "GNOMAD_FREQ                           0.0\n",
       "REPEAT_MASKER                         0.0\n",
       "SEGDUP                                0.0\n",
       "HOMOPOLYMER                             0\n",
       "REF_SEQ                 TAAAACAAGAGAAAAAA\n",
       "DINUCLEOTIDE                            0\n",
       "NEAR_INDEL                              1\n",
       "UCSC_RPMSK                           pass\n",
       "REF_COUNT                            99.0\n",
       "ALT_COUNT                             0.0\n",
       "MAF                                   0.0\n",
       "LOWER_CI                              0.0\n",
       "UPPER_CI                         0.037353\n",
       "CI_IS_GREATER                 FFFFF_FFFFF\n",
       "NORMAL_REF_COUNT                    256.0\n",
       "NORMAL_ALT_COUNT                      0.0\n",
       "NORMAL_MAF                            0.0\n",
       "NORMAL_LOWER_CI                       0.0\n",
       "NORMAL_UPPER_CI                  0.014784\n",
       "NORMAL_CI_IS_GREATER          FFFFF_FFFFF\n",
       "TUMOR_IS_BLOOD                        NaN\n",
       "TUMOR_IS_SPERM                        NaN\n",
       "Name: RE-7740_Br, dtype: object"
      ]
     },
     "execution_count": 58,
     "metadata": {},
     "output_type": "execute_result"
    }
   ],
   "source": [
    "#slice out row(s)\n",
    "variants_df.loc['RE-7740_Br']"
   ]
  },
  {
   "cell_type": "code",
   "execution_count": 61,
   "id": "ef1e877c",
   "metadata": {},
   "outputs": [
    {
     "data": {
      "text/html": [
       "<div>\n",
       "<style scoped>\n",
       "    .dataframe tbody tr th:only-of-type {\n",
       "        vertical-align: middle;\n",
       "    }\n",
       "\n",
       "    .dataframe tbody tr th {\n",
       "        vertical-align: top;\n",
       "    }\n",
       "\n",
       "    .dataframe thead th {\n",
       "        text-align: right;\n",
       "    }\n",
       "</style>\n",
       "<table border=\"1\" class=\"dataframe\">\n",
       "  <thead>\n",
       "    <tr style=\"text-align: right;\">\n",
       "      <th></th>\n",
       "      <th>CHROM</th>\n",
       "      <th>POS</th>\n",
       "      <th>REF</th>\n",
       "      <th>ALT</th>\n",
       "      <th>ANNO</th>\n",
       "      <th>GENE</th>\n",
       "      <th>GNOMAD_FREQ</th>\n",
       "      <th>REPEAT_MASKER</th>\n",
       "      <th>SEGDUP</th>\n",
       "      <th>HOMOPOLYMER</th>\n",
       "      <th>...</th>\n",
       "      <th>UPPER_CI</th>\n",
       "      <th>CI_IS_GREATER</th>\n",
       "      <th>NORMAL_REF_COUNT</th>\n",
       "      <th>NORMAL_ALT_COUNT</th>\n",
       "      <th>NORMAL_MAF</th>\n",
       "      <th>NORMAL_LOWER_CI</th>\n",
       "      <th>NORMAL_UPPER_CI</th>\n",
       "      <th>NORMAL_CI_IS_GREATER</th>\n",
       "      <th>TUMOR_IS_BLOOD</th>\n",
       "      <th>TUMOR_IS_SPERM</th>\n",
       "    </tr>\n",
       "    <tr>\n",
       "      <th>#ID</th>\n",
       "      <th></th>\n",
       "      <th></th>\n",
       "      <th></th>\n",
       "      <th></th>\n",
       "      <th></th>\n",
       "      <th></th>\n",
       "      <th></th>\n",
       "      <th></th>\n",
       "      <th></th>\n",
       "      <th></th>\n",
       "      <th></th>\n",
       "      <th></th>\n",
       "      <th></th>\n",
       "      <th></th>\n",
       "      <th></th>\n",
       "      <th></th>\n",
       "      <th></th>\n",
       "      <th></th>\n",
       "      <th></th>\n",
       "      <th></th>\n",
       "      <th></th>\n",
       "    </tr>\n",
       "  </thead>\n",
       "  <tbody>\n",
       "    <tr>\n",
       "      <th>RE-2302_Br</th>\n",
       "      <td>1</td>\n",
       "      <td>1959038</td>\n",
       "      <td>G</td>\n",
       "      <td>T</td>\n",
       "      <td>exonic:nonsynonymous_SNV</td>\n",
       "      <td>GABRD:NM_000815:exon5:c.G493T:p.D165Y,</td>\n",
       "      <td>0.0</td>\n",
       "      <td>0.0</td>\n",
       "      <td>0.0</td>\n",
       "      <td>0</td>\n",
       "      <td>...</td>\n",
       "      <td>0.011798</td>\n",
       "      <td>FFFFF_FFFFF</td>\n",
       "      <td>388.0</td>\n",
       "      <td>0.0</td>\n",
       "      <td>0.0</td>\n",
       "      <td>0.0</td>\n",
       "      <td>0.009804</td>\n",
       "      <td>FFFFF_FFFFF</td>\n",
       "      <td>NaN</td>\n",
       "      <td>NaN</td>\n",
       "    </tr>\n",
       "    <tr>\n",
       "      <th>RE-2152_Br</th>\n",
       "      <td>1</td>\n",
       "      <td>3638621</td>\n",
       "      <td>G</td>\n",
       "      <td>T</td>\n",
       "      <td>exonic:nonsynonymous_SNV</td>\n",
       "      <td>TP73:NM_001204185:exon5:c.G466T:p.A156S,TP73:N...</td>\n",
       "      <td>0.0</td>\n",
       "      <td>0.0</td>\n",
       "      <td>0.0</td>\n",
       "      <td>0</td>\n",
       "      <td>...</td>\n",
       "      <td>0.038865</td>\n",
       "      <td>FFFFF_FFFFF</td>\n",
       "      <td>429.0</td>\n",
       "      <td>0.0</td>\n",
       "      <td>0.0</td>\n",
       "      <td>0.0</td>\n",
       "      <td>0.008875</td>\n",
       "      <td>FFFFF_FFFFF</td>\n",
       "      <td>NaN</td>\n",
       "      <td>NaN</td>\n",
       "    </tr>\n",
       "    <tr>\n",
       "      <th>RE-8922_Br</th>\n",
       "      <td>1</td>\n",
       "      <td>3643776</td>\n",
       "      <td>T</td>\n",
       "      <td>C</td>\n",
       "      <td>exonic:nonsynonymous_SNV</td>\n",
       "      <td>TP73:NM_001204185:exon7:c.T830C:p.L277P,TP73:N...</td>\n",
       "      <td>0.0</td>\n",
       "      <td>0.0</td>\n",
       "      <td>0.0</td>\n",
       "      <td>0</td>\n",
       "      <td>...</td>\n",
       "      <td>0.041060</td>\n",
       "      <td>FFFFF_FFFFF</td>\n",
       "      <td>425.0</td>\n",
       "      <td>0.0</td>\n",
       "      <td>0.0</td>\n",
       "      <td>0.0</td>\n",
       "      <td>0.008958</td>\n",
       "      <td>FFFFF_FFFFF</td>\n",
       "      <td>NaN</td>\n",
       "      <td>NaN</td>\n",
       "    </tr>\n",
       "    <tr>\n",
       "      <th>RE-1022_Br</th>\n",
       "      <td>1</td>\n",
       "      <td>3807595</td>\n",
       "      <td>G</td>\n",
       "      <td>T</td>\n",
       "      <td>exonic:nonsynonymous_SNV</td>\n",
       "      <td>C1orf174:NM_207356:exon3:c.C156A:p.D52E,</td>\n",
       "      <td>0.0</td>\n",
       "      <td>0.0</td>\n",
       "      <td>0.0</td>\n",
       "      <td>0</td>\n",
       "      <td>...</td>\n",
       "      <td>0.024650</td>\n",
       "      <td>FFFFF_FFFFF</td>\n",
       "      <td>325.0</td>\n",
       "      <td>0.0</td>\n",
       "      <td>0.0</td>\n",
       "      <td>0.0</td>\n",
       "      <td>0.011682</td>\n",
       "      <td>FFFFF_FFFFF</td>\n",
       "      <td>NaN</td>\n",
       "      <td>NaN</td>\n",
       "    </tr>\n",
       "    <tr>\n",
       "      <th>RE-9093_Br</th>\n",
       "      <td>1</td>\n",
       "      <td>5965833</td>\n",
       "      <td>G</td>\n",
       "      <td>T</td>\n",
       "      <td>exonic:nonsynonymous_SNV</td>\n",
       "      <td>NPHP4:NM_001291594:exon10:c.C86A:p.P29Q,NPHP4:...</td>\n",
       "      <td>0.0</td>\n",
       "      <td>1.0</td>\n",
       "      <td>0.0</td>\n",
       "      <td>0</td>\n",
       "      <td>...</td>\n",
       "      <td>0.018572</td>\n",
       "      <td>FFFFF_FFFFF</td>\n",
       "      <td>378.0</td>\n",
       "      <td>0.0</td>\n",
       "      <td>0.0</td>\n",
       "      <td>0.0</td>\n",
       "      <td>0.010060</td>\n",
       "      <td>FFFFF_FFFFF</td>\n",
       "      <td>NaN</td>\n",
       "      <td>NaN</td>\n",
       "    </tr>\n",
       "  </tbody>\n",
       "</table>\n",
       "<p>5 rows × 28 columns</p>\n",
       "</div>"
      ],
      "text/plain": [
       "            CHROM      POS REF ALT                      ANNO  \\\n",
       "#ID                                                            \n",
       "RE-2302_Br      1  1959038   G   T  exonic:nonsynonymous_SNV   \n",
       "RE-2152_Br      1  3638621   G   T  exonic:nonsynonymous_SNV   \n",
       "RE-8922_Br      1  3643776   T   C  exonic:nonsynonymous_SNV   \n",
       "RE-1022_Br      1  3807595   G   T  exonic:nonsynonymous_SNV   \n",
       "RE-9093_Br      1  5965833   G   T  exonic:nonsynonymous_SNV   \n",
       "\n",
       "                                                         GENE  GNOMAD_FREQ  \\\n",
       "#ID                                                                          \n",
       "RE-2302_Br             GABRD:NM_000815:exon5:c.G493T:p.D165Y,          0.0   \n",
       "RE-2152_Br  TP73:NM_001204185:exon5:c.G466T:p.A156S,TP73:N...          0.0   \n",
       "RE-8922_Br  TP73:NM_001204185:exon7:c.T830C:p.L277P,TP73:N...          0.0   \n",
       "RE-1022_Br           C1orf174:NM_207356:exon3:c.C156A:p.D52E,          0.0   \n",
       "RE-9093_Br  NPHP4:NM_001291594:exon10:c.C86A:p.P29Q,NPHP4:...          0.0   \n",
       "\n",
       "            REPEAT_MASKER  SEGDUP  HOMOPOLYMER  ...  UPPER_CI  CI_IS_GREATER  \\\n",
       "#ID                                             ...                            \n",
       "RE-2302_Br            0.0     0.0            0  ...  0.011798    FFFFF_FFFFF   \n",
       "RE-2152_Br            0.0     0.0            0  ...  0.038865    FFFFF_FFFFF   \n",
       "RE-8922_Br            0.0     0.0            0  ...  0.041060    FFFFF_FFFFF   \n",
       "RE-1022_Br            0.0     0.0            0  ...  0.024650    FFFFF_FFFFF   \n",
       "RE-9093_Br            1.0     0.0            0  ...  0.018572    FFFFF_FFFFF   \n",
       "\n",
       "            NORMAL_REF_COUNT NORMAL_ALT_COUNT  NORMAL_MAF  NORMAL_LOWER_CI  \\\n",
       "#ID                                                                          \n",
       "RE-2302_Br             388.0              0.0         0.0              0.0   \n",
       "RE-2152_Br             429.0              0.0         0.0              0.0   \n",
       "RE-8922_Br             425.0              0.0         0.0              0.0   \n",
       "RE-1022_Br             325.0              0.0         0.0              0.0   \n",
       "RE-9093_Br             378.0              0.0         0.0              0.0   \n",
       "\n",
       "            NORMAL_UPPER_CI  NORMAL_CI_IS_GREATER  TUMOR_IS_BLOOD  \\\n",
       "#ID                                                                 \n",
       "RE-2302_Br         0.009804           FFFFF_FFFFF             NaN   \n",
       "RE-2152_Br         0.008875           FFFFF_FFFFF             NaN   \n",
       "RE-8922_Br         0.008958           FFFFF_FFFFF             NaN   \n",
       "RE-1022_Br         0.011682           FFFFF_FFFFF             NaN   \n",
       "RE-9093_Br         0.010060           FFFFF_FFFFF             NaN   \n",
       "\n",
       "           TUMOR_IS_SPERM  \n",
       "#ID                        \n",
       "RE-2302_Br            NaN  \n",
       "RE-2152_Br            NaN  \n",
       "RE-8922_Br            NaN  \n",
       "RE-1022_Br            NaN  \n",
       "RE-9093_Br            NaN  \n",
       "\n",
       "[5 rows x 28 columns]"
      ]
     },
     "execution_count": 61,
     "metadata": {},
     "output_type": "execute_result"
    }
   ],
   "source": [
    "#filtering the dataframe with column-specific criteria\n",
    "#e.g. we would like to filter out the data with the ANNO column value as \n",
    "#'exonic:nonsynonymous_SNV'\n",
    "exonic_variants_df = variants_df[variants_df['ANNO'] =='exonic:nonsynonymous_SNV']\n",
    "exonic_variants_df.head()"
   ]
  },
  {
   "cell_type": "code",
   "execution_count": null,
   "id": "d5ecdafa",
   "metadata": {},
   "outputs": [],
   "source": []
  }
 ],
 "metadata": {
  "kernelspec": {
   "display_name": "Python 3 (ipykernel)",
   "language": "python",
   "name": "python3"
  },
  "language_info": {
   "codemirror_mode": {
    "name": "ipython",
    "version": 3
   },
   "file_extension": ".py",
   "mimetype": "text/x-python",
   "name": "python",
   "nbconvert_exporter": "python",
   "pygments_lexer": "ipython3",
   "version": "3.9.5"
  }
 },
 "nbformat": 4,
 "nbformat_minor": 5
}
