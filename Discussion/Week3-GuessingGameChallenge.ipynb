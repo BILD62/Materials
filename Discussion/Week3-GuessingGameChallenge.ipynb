{
 "cells": [
  {
   "cell_type": "markdown",
   "id": "000c6591",
   "metadata": {},
   "source": [
    "# Guessing game challenge\n",
    "\n",
    "<div class=\"alert alert-success\"><font color=\"blue\"><b>Task: Guessing Game Challenge</b></font>\n",
    "Ask the user: “What’s my favorite food?”\n",
    "    <i>If</i> it’s the same as yours, respond, “Yep, delicious!”\n",
    "<i>If not</i>, say “Nope, you’re wrong.”\n",
    "Regardless, tell the user “Thanks for playing.”\n",
    "\n",
    "**Hint**: You can use the `input` function to ask the user for a string input. For example, `response = input(\"What's my name?\")`\n",
    "\n",
    "Working with a team, pseudocode this on the whiteboard, and then write this code in the block below.</div>"
   ]
  },
  {
   "cell_type": "code",
   "execution_count": 2,
   "id": "6d0f6342",
   "metadata": {},
   "outputs": [
    {
     "name": "stdout",
     "output_type": "stream",
     "text": [
      "What's my favorite food?tacos\n",
      "Nope, you're wrong.\n",
      "Thanks for playing.\n"
     ]
    }
   ],
   "source": [
    "# Solution\n",
    "\n",
    "response = input('What\\'s my favorite food?')\n",
    "\n",
    "if response.lower() == 'burritos':\n",
    "    print('Yep, delicious!')\n",
    "else:\n",
    "    print('Nope, you\\'re wrong.')\n",
    "                 \n",
    "print('Thanks for playing.')"
   ]
  },
  {
   "cell_type": "code",
   "execution_count": null,
   "id": "5b700c0d",
   "metadata": {},
   "outputs": [],
   "source": []
  }
 ],
 "metadata": {
  "kernelspec": {
   "display_name": "Python 3",
   "language": "python",
   "name": "python3"
  },
  "language_info": {
   "codemirror_mode": {
    "name": "ipython",
    "version": 3
   },
   "file_extension": ".py",
   "mimetype": "text/x-python",
   "name": "python",
   "nbconvert_exporter": "python",
   "pygments_lexer": "ipython3",
   "version": "3.7.3"
  }
 },
 "nbformat": 4,
 "nbformat_minor": 5
}
