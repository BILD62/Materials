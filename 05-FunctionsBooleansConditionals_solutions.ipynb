{
 "cells": [
  {
   "cell_type": "markdown",
   "id": "317c8d94",
   "metadata": {},
   "source": [
    "# Functions, Booleans, Conditionals\n",
    "In this notebook, we'll encounter another type of variable, a **Boolean**. We'll talk about the ways that we can use conditionals, and begin writing functions. We'll ultimately put all of this together to write a program that can compute the GC content of a nucleotide sequence.\n",
    " \n",
    "## At the end of this notebook, you'll be able to:\n",
    "* [Write a simple function](#functions)\n",
    "* [Recognize and use different types of operators (Boolean and comparison)](#operators)\n",
    "* [Write and test conditional statements in Python](#conditionals)\n",
    "* [Use these tools to test the GC content in a DNA string](#GCcontent)\n",
    "\n",
    "<hr>"
   ]
  },
  {
   "cell_type": "markdown",
   "id": "acfb78a2",
   "metadata": {},
   "source": [
    "<a id=\"Functions\"></a>\n",
    "\n",
    "## Functions\n",
    "\n",
    "A function has the following syntax:\n",
    "\n",
    "```\n",
    "    def function():        \n",
    "        a*2\n",
    "        return a\n",
    "```"
   ]
  },
  {
   "cell_type": "code",
   "execution_count": 1,
   "id": "8039c234",
   "metadata": {},
   "outputs": [],
   "source": [
    "# Define the function here\n",
    "def function(a):\n",
    "    '''This function multiplies input by 2'''\n",
    "    b = a*2\n",
    "    return b"
   ]
  },
  {
   "cell_type": "code",
   "execution_count": 2,
   "id": "070f9e99",
   "metadata": {},
   "outputs": [
    {
     "name": "stdout",
     "output_type": "stream",
     "text": [
      "84\n"
     ]
    }
   ],
   "source": [
    "# Call the function here\n",
    "our_number = function(42)\n",
    "print(our_number)"
   ]
  },
  {
   "cell_type": "code",
   "execution_count": 3,
   "id": "11a376a2",
   "metadata": {},
   "outputs": [
    {
     "name": "stdout",
     "output_type": "stream",
     "text": [
      "hellohello\n"
     ]
    }
   ],
   "source": [
    "# This also works with strings!\n",
    "our_string = function('hello')\n",
    "print(our_string)"
   ]
  },
  {
   "cell_type": "code",
   "execution_count": 4,
   "id": "92ca264d",
   "metadata": {},
   "outputs": [
    {
     "name": "stdout",
     "output_type": "stream",
     "text": [
      "Help on function function in module __main__:\n",
      "\n",
      "function(a)\n",
      "    This function multiplies input by 2\n",
      "\n"
     ]
    }
   ],
   "source": [
    "help(function)"
   ]
  },
  {
   "cell_type": "markdown",
   "id": "3802c26b",
   "metadata": {},
   "source": [
    "### Additional notes about functions\n",
    "* We can add docstrings to define a function, by adding a statement wrapped by `'''` after the function name. This will come up when you use `help(function)`.\n",
    "* Functions can have many, many lines!\n",
    "* Functions can call other functions.\n",
    "* A **program** is one or more functions that work together."
   ]
  },
  {
   "cell_type": "markdown",
   "id": "34ea8420",
   "metadata": {
    "slideshow": {
     "slide_type": "slide"
    }
   },
   "source": [
    "<a id=\"Operators\"></a>\n",
    "   \n",
    "## Comparison and Boolean Operators\n",
    "\n",
    "We can use comparison operators to test the relationship between two objects. These statements return Booleans.\n",
    "\n",
    "**Booleans** are variables that store `True` or `False`. They are named after the British mathematician George Boole. He first formulated Boolean algebra, which are a set of rules for how to reason with and combine these values. This is the basis of all modern computer logic.\n",
    "\n",
    "**Note:** Capitalization *still* matters! TRUE is not a Boolean.\n",
    "\n",
    "\n",
    "| Symbol |    Operation   | Usage | Boolean Outcome |\n",
    "|:------:|:--------------:|:-----:|:-------:|\n",
    "|    ==   |  is equal to  |`10==5*2`| True | \n",
    "|    !=   | is not equal to | `10!=5*2` | False |\n",
    "|    >  | Greater than |  `10 > 2` | True |\n",
    "|    <   |    Less than    |  `10 < 2` | False |\n",
    "| >= | Greater than _or_ equal to | `10 >= 10` | True |\n",
    "| <= | Less than _or_ equal to | `10 >= 10` | True |\n"
   ]
  },
  {
   "cell_type": "markdown",
   "id": "06ac9b16",
   "metadata": {},
   "source": [
    "<div class=\"alert alert-success\"><b>Task:</b> Test each of the comparison operators, saving their output to a variable.</div>"
   ]
  },
  {
   "cell_type": "code",
   "execution_count": 5,
   "id": "250faf58",
   "metadata": {},
   "outputs": [
    {
     "name": "stdout",
     "output_type": "stream",
     "text": [
      "True\n"
     ]
    }
   ],
   "source": [
    "# Test the comparison operators here\n",
    "equal_test = (our_number == 84)\n",
    "not_equal_test = (our_number != 84)\n",
    "\n",
    "print(equal_test)"
   ]
  },
  {
   "cell_type": "markdown",
   "id": "5e1c5088",
   "metadata": {},
   "source": [
    "**Boolean operators** use Boolean logic, and include:\n",
    "- `and` : True if both are true\n",
    "- `or` : True if at least one is true\n",
    "- `not` : True only if false"
   ]
  },
  {
   "cell_type": "markdown",
   "id": "dc4a9a91",
   "metadata": {},
   "source": [
    "What will this statement return?"
   ]
  },
  {
   "cell_type": "code",
   "execution_count": 6,
   "id": "ffc1c86e",
   "metadata": {},
   "outputs": [
    {
     "data": {
      "text/plain": [
       "False"
      ]
     },
     "execution_count": 6,
     "metadata": {},
     "output_type": "execute_result"
    }
   ],
   "source": [
    "(6 > 10) and not (4 == 4)"
   ]
  },
  {
   "cell_type": "markdown",
   "id": "2e455e4b",
   "metadata": {
    "slideshow": {
     "slide_type": "slide"
    }
   },
   "source": [
    "<div class=\"alert alert-success\"><b>Task:</b> Test each of the Boolean operations <code>and</code>, <code>or</code>, & <code>not</code> to see how these variables relate, putting integers, floats, and conditional statements on each side.</div>"
   ]
  },
  {
   "cell_type": "code",
   "execution_count": 9,
   "id": "aa4f31a2",
   "metadata": {
    "scrolled": true,
    "slideshow": {
     "slide_type": "fragment"
    }
   },
   "outputs": [
    {
     "name": "stdout",
     "output_type": "stream",
     "text": [
      "6.0\n",
      "False\n"
     ]
    }
   ],
   "source": [
    "# Test Boolean operators here\n",
    "a = 6                  # Define a\n",
    "print(a == 6 and 6.0)  # If both are true, the right returns\n",
    "print(a == 3 and 6.0)  # If left is False, the left returns"
   ]
  },
  {
   "cell_type": "markdown",
   "id": "0a94fa36",
   "metadata": {},
   "source": [
    "### Short circuit evaluation!\n",
    "To determine the final result of an `and` expression, Python starts by evaluating the left operand. If it’s false, then the whole expression is false. In this situation, there’s no need to evaluate the operand on the right. Python already knows the final result. This is called **short circuit evaluation** and it saves Python time.\n",
    "\n",
    "Strings that contain any values return `True`. Strings that are empty (`''`) return `False`."
   ]
  },
  {
   "cell_type": "markdown",
   "id": "09a61303",
   "metadata": {},
   "source": [
    "<div class=\"alert alert-success\"><b>Task:</b> Test how Boolean operators work with strings, by testing <code>'a' and 'b'</code> and then <code>'b' and 'a'</code>.</div>"
   ]
  },
  {
   "cell_type": "code",
   "execution_count": 10,
   "id": "0107c7a6",
   "metadata": {},
   "outputs": [
    {
     "data": {
      "text/plain": [
       "False"
      ]
     },
     "execution_count": 10,
     "metadata": {},
     "output_type": "execute_result"
    }
   ],
   "source": [
    "bool('')"
   ]
  },
  {
   "cell_type": "code",
   "execution_count": 11,
   "id": "824a093b",
   "metadata": {},
   "outputs": [
    {
     "data": {
      "text/plain": [
       "True"
      ]
     },
     "execution_count": 11,
     "metadata": {},
     "output_type": "execute_result"
    }
   ],
   "source": [
    "bool('string')"
   ]
  },
  {
   "cell_type": "code",
   "execution_count": 12,
   "id": "36679f06",
   "metadata": {},
   "outputs": [
    {
     "name": "stdout",
     "output_type": "stream",
     "text": [
      "b\n"
     ]
    }
   ],
   "source": [
    "print('a' and 'b') "
   ]
  },
  {
   "cell_type": "code",
   "execution_count": 15,
   "id": "5985a609",
   "metadata": {},
   "outputs": [
    {
     "name": "stdout",
     "output_type": "stream",
     "text": [
      "\n"
     ]
    }
   ],
   "source": [
    "print('b' and '')"
   ]
  },
  {
   "cell_type": "code",
   "execution_count": null,
   "id": "9508c6a3",
   "metadata": {},
   "outputs": [],
   "source": [
    "# Test Boolean operators with strings\n",
    "animals = 'dogs'\n",
    "animals = 'cats'\n",
    "\n",
    "animals == 'cats' and 'dogs'"
   ]
  },
  {
   "cell_type": "markdown",
   "id": "2f36c931",
   "metadata": {},
   "source": [
    "<a id=\"conditionals\"></a>\n",
    "\n",
    "## Conditionals\n",
    "**Conditionals** are statements that check for a condition, using the `if` statement, and then only execute a set of code if the condition evaluates as `True`.\n",
    "\n",
    "- `if`\n",
    "- `elif` (else if): After an if, you can use elif statements to check additional conditions.\n",
    "- `else`: After an if, you can use an else that will run if the conditional(s) above have not run.\n",
    "\n",
    "### If/elif/else syntax\n",
    "- Indentation matters! Your statements in the `if` block need to be indented by a tab or four spaces.\n",
    "- You need a colon after `if`, `elif`, and `else`"
   ]
  },
  {
   "cell_type": "code",
   "execution_count": 17,
   "id": "862ddb57",
   "metadata": {},
   "outputs": [
    {
     "name": "stdout",
     "output_type": "stream",
     "text": [
      "This elif statement executes.\n"
     ]
    }
   ],
   "source": [
    "a = 3\n",
    "\n",
    "condition = (a==6)\n",
    "\n",
    "if condition:\n",
    "    print('This code executes if the condition evaluates as True.')\n",
    "    \n",
    "elif a==3:\n",
    "    print('This elif statement executes.')\n",
    "    \n",
    "else: \n",
    "    print('This code executes if the condition evaluates as False')\n"
   ]
  },
  {
   "cell_type": "markdown",
   "id": "7e0034bb",
   "metadata": {},
   "source": [
    "### Properties of Conditionals\n",
    "- Conditionals can take any expression that can be evaluated as `True` or `False`. \n",
    "- The order of conditional blocks is always `if` then `elif`(s) then `else`.\n",
    "- If the `elif` is at the end, it will never be tested, as the else will have already returned a value once reached (and Python will throw an error).\n",
    "- An `else` statement is not required, but if both the `if` and the `elif` condtions are not met (both evaluate as `False`), then nothing is returned.\n",
    "- **At most one component (`if` / `elif` / `else`) of a conditional will run**"
   ]
  },
  {
   "cell_type": "markdown",
   "id": "f24551eb",
   "metadata": {},
   "source": [
    "<a id=\"GCcontent\"></a>\n",
    "\n",
    "## Writing a program to count GC content\n",
    "\n",
    "Below, there is a function to calculate the GC content of a DNA string of length 4. It includes a few new elements that we haven't discussed, but can you see what it's doing?"
   ]
  },
  {
   "cell_type": "code",
   "execution_count": 18,
   "id": "15cd3814",
   "metadata": {},
   "outputs": [],
   "source": [
    "# Write our function\n",
    "\n",
    "def GCcontent4(DNA):\n",
    "    \n",
    "    '''counts GC content for a DNA string of length 4'''\n",
    "    \n",
    "    counter = 0 # Initialize counter\n",
    "    \n",
    "    if DNA[0]=='G' or DNA[0]=='C':\n",
    "        counter = counter+1\n",
    "    if DNA[1]=='G' or DNA[1]=='C':\n",
    "        counter = counter+1\n",
    "    if DNA[2]=='G' or DNA[2]=='C':\n",
    "        counter = counter+1\n",
    "    if DNA[3]=='G' or DNA[3]=='C':\n",
    "        counter = counter+1\n",
    "        \n",
    "    return counter/4.0"
   ]
  },
  {
   "cell_type": "code",
   "execution_count": 20,
   "id": "63a0063a",
   "metadata": {},
   "outputs": [
    {
     "data": {
      "text/plain": [
       "0.5"
      ]
     },
     "execution_count": 20,
     "metadata": {},
     "output_type": "execute_result"
    }
   ],
   "source": [
    "# Call our function\n",
    "GCcontent4('AGCT')"
   ]
  },
  {
   "cell_type": "markdown",
   "id": "748d4ea0",
   "metadata": {},
   "source": [
    "The `GCcontent4` uses **conditional statements** to test whether a given nucleotide in the sequence is equal to either a G or a C. In other words, it is doing a **value comparison**. If either of those conditions are met, it increments a **counter**. \n",
    "\n",
    "**Question**: Why can't we write `DNA[0] == 'C' or 'G'`?"
   ]
  },
  {
   "cell_type": "code",
   "execution_count": 21,
   "id": "45760443",
   "metadata": {},
   "outputs": [
    {
     "data": {
      "text/plain": [
       "'G'"
      ]
     },
     "execution_count": 21,
     "metadata": {},
     "output_type": "execute_result"
    }
   ],
   "source": [
    "DNA = 'AGTCAC'\n",
    "\n",
    "DNA[0] == 'C' or 'G'"
   ]
  },
  {
   "cell_type": "markdown",
   "id": "e8b0fe4d",
   "metadata": {},
   "source": [
    "## Creating a function that catches errors\n",
    "If we put in a string that's not length 4, what happens?\n",
    "\n",
    "<div class=\"alert alert-success\"><b>Task:</b> Pseudocode a function (<code>GCcontent3or4</code>) that will work with strings of 3 or 4. Then, write your new function below.</div>"
   ]
  },
  {
   "cell_type": "code",
   "execution_count": 31,
   "id": "3828ad9e",
   "metadata": {},
   "outputs": [],
   "source": [
    "# Write your function here\n",
    "def GCcontent3or4(DNA):\n",
    "    \n",
    "    '''counts GC content for a DNA string of length 3 or4'''\n",
    "    \n",
    "    counter = 0 # Initialize counter\n",
    "    \n",
    "    if len(DNA)!=3 and len(DNA)!=4: # If DNA length is not equal to 3 AND it's not equal to 4\n",
    "        print('Incorrect length of DNA') # One way to alert the user\n",
    "        raise ValueError ('Incorrect length of DNA') # A better way to alert the user\n",
    "    \n",
    "    if len(DNA) == 3:\n",
    "        if DNA[0]=='G' or DNA[0]=='C':\n",
    "            counter = counter+1\n",
    "        if DNA[1]=='G' or DNA[1]=='C':\n",
    "            counter = counter+1\n",
    "        if DNA[2]=='G' or DNA[2]=='C':\n",
    "            counter = counter+1\n",
    "    \n",
    "    elif len(DNA) == 4:\n",
    "        if DNA[0]=='G' or DNA[0]=='C':\n",
    "            counter = counter+1\n",
    "        if DNA[1]=='G' or DNA[1]=='C':\n",
    "            counter = counter+1\n",
    "        if DNA[2]=='G' or DNA[2]=='C':\n",
    "            counter = counter+1\n",
    "        if DNA[3]=='G' or DNA[3]=='C':\n",
    "            counter = counter+1\n",
    "        \n",
    "    return counter/len(DNA)"
   ]
  },
  {
   "cell_type": "code",
   "execution_count": 32,
   "id": "bebc5e0b",
   "metadata": {},
   "outputs": [
    {
     "data": {
      "text/plain": [
       "0.75"
      ]
     },
     "execution_count": 32,
     "metadata": {},
     "output_type": "execute_result"
    }
   ],
   "source": [
    "GCcontent3or4('ACGC')"
   ]
  },
  {
   "cell_type": "code",
   "execution_count": 33,
   "id": "2529b685",
   "metadata": {},
   "outputs": [
    {
     "name": "stdout",
     "output_type": "stream",
     "text": [
      "Incorrect length of DNA\n"
     ]
    },
    {
     "ename": "ValueError",
     "evalue": "Incorrect length of DNA",
     "output_type": "error",
     "traceback": [
      "\u001b[0;31m---------------------------------------------------------------------------\u001b[0m",
      "\u001b[0;31mValueError\u001b[0m                                Traceback (most recent call last)",
      "\u001b[0;32m<ipython-input-33-5a7aecfa476d>\u001b[0m in \u001b[0;36m<module>\u001b[0;34m\u001b[0m\n\u001b[0;32m----> 1\u001b[0;31m \u001b[0mGCcontent3or4\u001b[0m\u001b[0;34m(\u001b[0m\u001b[0;34m'AC'\u001b[0m\u001b[0;34m)\u001b[0m\u001b[0;34m\u001b[0m\u001b[0;34m\u001b[0m\u001b[0m\n\u001b[0m",
      "\u001b[0;32m<ipython-input-31-2b4b38c69710>\u001b[0m in \u001b[0;36mGCcontent3or4\u001b[0;34m(DNA)\u001b[0m\n\u001b[1;32m      8\u001b[0m     \u001b[0;32mif\u001b[0m \u001b[0mlen\u001b[0m\u001b[0;34m(\u001b[0m\u001b[0mDNA\u001b[0m\u001b[0;34m)\u001b[0m\u001b[0;34m!=\u001b[0m\u001b[0;36m3\u001b[0m \u001b[0;32mand\u001b[0m \u001b[0mlen\u001b[0m\u001b[0;34m(\u001b[0m\u001b[0mDNA\u001b[0m\u001b[0;34m)\u001b[0m\u001b[0;34m!=\u001b[0m\u001b[0;36m4\u001b[0m\u001b[0;34m:\u001b[0m\u001b[0;34m\u001b[0m\u001b[0;34m\u001b[0m\u001b[0m\n\u001b[1;32m      9\u001b[0m         \u001b[0mprint\u001b[0m\u001b[0;34m(\u001b[0m\u001b[0;34m'Incorrect length of DNA'\u001b[0m\u001b[0;34m)\u001b[0m \u001b[0;31m# One way to alert the user\u001b[0m\u001b[0;34m\u001b[0m\u001b[0;34m\u001b[0m\u001b[0m\n\u001b[0;32m---> 10\u001b[0;31m         \u001b[0;32mraise\u001b[0m \u001b[0mValueError\u001b[0m \u001b[0;34m(\u001b[0m\u001b[0;34m'Incorrect length of DNA'\u001b[0m\u001b[0;34m)\u001b[0m \u001b[0;31m# A better way to alert the user\u001b[0m\u001b[0;34m\u001b[0m\u001b[0;34m\u001b[0m\u001b[0m\n\u001b[0m\u001b[1;32m     11\u001b[0m \u001b[0;34m\u001b[0m\u001b[0m\n\u001b[1;32m     12\u001b[0m     \u001b[0;32mif\u001b[0m \u001b[0mlen\u001b[0m\u001b[0;34m(\u001b[0m\u001b[0mDNA\u001b[0m\u001b[0;34m)\u001b[0m \u001b[0;34m==\u001b[0m \u001b[0;36m3\u001b[0m\u001b[0;34m:\u001b[0m\u001b[0;34m\u001b[0m\u001b[0;34m\u001b[0m\u001b[0m\n",
      "\u001b[0;31mValueError\u001b[0m: Incorrect length of DNA"
     ]
    }
   ],
   "source": [
    "GCcontent3or4('AC')"
   ]
  },
  {
   "cell_type": "markdown",
   "id": "49bcec88",
   "metadata": {},
   "source": [
    "Typically, we'll work with DNA strings that are longer than 4! What if we need to work with a longer string? Turns out, there's a good way to tackle this: a **for** loop. More on that in the next notebook.\n"
   ]
  },
  {
   "cell_type": "markdown",
   "id": "42d140e6",
   "metadata": {},
   "source": [
    "## Additional Resources\n",
    "* <a href=\"https://merely-useful.github.io/py/py-dev-development.html\">Merely Useful Functions</a>\n",
    "* <a href=\"https://www.python-course.eu/python3_functions.php\">Python Course: Functions</a>\n",
    "* <a href=\"https://swcarpentry.github.io/python-novice-plotting/17-conditionals/\">Software Carpentries Conditionals</a>\n",
    "\n",
    "## About this notebook\n",
    "* This notebook is largely derived from UCSD COGS18 Materials, created by Tom Donoghue & Shannon Ellis, as well as exercises in [*Computing for Biologists*](https://www.cambridge.org/highereducation/books/computing-for-biologists/5B08EEEE2AE8A602113A8F225E89F5FD#overview)."
   ]
  }
 ],
 "metadata": {
  "kernelspec": {
   "display_name": "Python 3",
   "language": "python",
   "name": "python3"
  },
  "language_info": {
   "codemirror_mode": {
    "name": "ipython",
    "version": 3
   },
   "file_extension": ".py",
   "mimetype": "text/x-python",
   "name": "python",
   "nbconvert_exporter": "python",
   "pygments_lexer": "ipython3",
   "version": "3.7.3"
  }
 },
 "nbformat": 4,
 "nbformat_minor": 5
}
